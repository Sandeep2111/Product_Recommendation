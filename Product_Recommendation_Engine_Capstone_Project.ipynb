{
  "nbformat": 4,
  "nbformat_minor": 0,
  "metadata": {
    "colab": {
      "name": "Product Recommendation Engine - Capstone Project.ipynb",
      "provenance": [],
      "collapsed_sections": [],
      "mount_file_id": "1X4uAI00vmF244QRSHT_QDYSgHZUZSpU5",
      "authorship_tag": "ABX9TyN2cCOIg+uYGqiW359ar/HJ",
      "include_colab_link": true
    },
    "kernelspec": {
      "name": "python3",
      "display_name": "Python 3"
    },
    "language_info": {
      "name": "python"
    }
  },
  "cells": [
    {
      "cell_type": "markdown",
      "metadata": {
        "id": "view-in-github",
        "colab_type": "text"
      },
      "source": [
        "<a href=\"https://colab.research.google.com/github/Sandeep2111/Product_Recommendation/blob/main/Product_Recommendation_Engine_Capstone_Project.ipynb\" target=\"_parent\"><img src=\"https://colab.research.google.com/assets/colab-badge.svg\" alt=\"Open In Colab\"/></a>"
      ]
    },
    {
      "cell_type": "markdown",
      "metadata": {
        "id": "QuUrvlZDLzFm"
      },
      "source": [
        "# <b><u> Project Title : Build a recommender engine that reviews customer ratings and purchase history to recommend items and improve sales. </u></b>"
      ]
    },
    {
      "cell_type": "markdown",
      "metadata": {
        "id": "ZTQ207ARL2xP"
      },
      "source": [
        "### Amazon.com is one of the largest electronic commerce and cloud computing companies.\n",
        "\n",
        "### Just a few Amazon related facts:\n",
        "\n",
        "### They lost $4.8 million in August 2013, when their website went down for 40 mins. They hold the patent on 1-Click buying, and licenses it to Apple. Their Phoenix fulfilment centre is a massive 1.2 million square feet. Amazon relies heavily on a Recommendation engine that reviews customer ratings and purchase history to recommend items and improve sales.\n",
        "\n",
        "\n",
        "### This is a dataset related to over 2 Million customer reviews and ratings of Beauty related products sold on their website.\n",
        "\n",
        "### It contains\n",
        "\n",
        "* ### the unique UserId (Customer Identification),\n",
        "* ### the product ASIN (Amazon's unique product identification code for each product),\n",
        "* ### Ratings (ranging from 1-5 based on customer satisfaction) and\n",
        "* ### the Timestamp of the rating (in UNIX time)\n",
        "\n",
        "### This dataset contains product reviews and metadata from Amazon, including 142.8 million reviews spanning May 1996 - July 2014.\n",
        "\n",
        "### This dataset includes reviews (ratings, text, helpfulness votes), product metadata (descriptions, category information, price, brand, and image features), and links (also viewed/also bought graphs).\n"
      ]
    },
    {
      "cell_type": "markdown",
      "metadata": {
        "id": "J7qghxHXu3G_"
      },
      "source": [
        "## Steps:\n",
        "1. Read and Explore the Given dataset.\n",
        "2. Split the Data randomly into Train and test set."
      ]
    },
    {
      "cell_type": "markdown",
      "metadata": {
        "id": "tO3V0B8swCcM"
      },
      "source": [
        "#### Import Required Libraries"
      ]
    },
    {
      "cell_type": "code",
      "metadata": {
        "id": "cqRuuEfIL0sK"
      },
      "source": [
        "import pandas as pd\n",
        "import numpy as np\n",
        "import matplotlib.pyplot as plt\n",
        "import seaborn as sns\n",
        "from datetime import datetime\n",
        "%matplotlib inline\n",
        "import warnings\n",
        "import calendar\n",
        "warnings.filterwarnings('ignore')"
      ],
      "execution_count": null,
      "outputs": []
    },
    {
      "cell_type": "code",
      "metadata": {
        "colab": {
          "base_uri": "https://localhost:8080/",
          "height": 202
        },
        "id": "3hKJVUg7MprR",
        "outputId": "34126e2a-6c52-479d-c9a9-f50823f0e913"
      },
      "source": [
        "dataset = pd.read_csv('/content/drive/MyDrive/Colab Notebooks/AlmaBetter/Capstone/Dataset/ratings_Beauty.csv')\n",
        "dataset.head()"
      ],
      "execution_count": null,
      "outputs": [
        {
          "output_type": "execute_result",
          "data": {
            "text/html": [
              "<div>\n",
              "<style scoped>\n",
              "    .dataframe tbody tr th:only-of-type {\n",
              "        vertical-align: middle;\n",
              "    }\n",
              "\n",
              "    .dataframe tbody tr th {\n",
              "        vertical-align: top;\n",
              "    }\n",
              "\n",
              "    .dataframe thead th {\n",
              "        text-align: right;\n",
              "    }\n",
              "</style>\n",
              "<table border=\"1\" class=\"dataframe\">\n",
              "  <thead>\n",
              "    <tr style=\"text-align: right;\">\n",
              "      <th></th>\n",
              "      <th>UserId</th>\n",
              "      <th>ProductId</th>\n",
              "      <th>Rating</th>\n",
              "      <th>Timestamp</th>\n",
              "    </tr>\n",
              "  </thead>\n",
              "  <tbody>\n",
              "    <tr>\n",
              "      <th>0</th>\n",
              "      <td>A39HTATAQ9V7YF</td>\n",
              "      <td>0205616461</td>\n",
              "      <td>5.0</td>\n",
              "      <td>1369699200</td>\n",
              "    </tr>\n",
              "    <tr>\n",
              "      <th>1</th>\n",
              "      <td>A3JM6GV9MNOF9X</td>\n",
              "      <td>0558925278</td>\n",
              "      <td>3.0</td>\n",
              "      <td>1355443200</td>\n",
              "    </tr>\n",
              "    <tr>\n",
              "      <th>2</th>\n",
              "      <td>A1Z513UWSAAO0F</td>\n",
              "      <td>0558925278</td>\n",
              "      <td>5.0</td>\n",
              "      <td>1404691200</td>\n",
              "    </tr>\n",
              "    <tr>\n",
              "      <th>3</th>\n",
              "      <td>A1WMRR494NWEWV</td>\n",
              "      <td>0733001998</td>\n",
              "      <td>4.0</td>\n",
              "      <td>1382572800</td>\n",
              "    </tr>\n",
              "    <tr>\n",
              "      <th>4</th>\n",
              "      <td>A3IAAVS479H7M7</td>\n",
              "      <td>0737104473</td>\n",
              "      <td>1.0</td>\n",
              "      <td>1274227200</td>\n",
              "    </tr>\n",
              "  </tbody>\n",
              "</table>\n",
              "</div>"
            ],
            "text/plain": [
              "           UserId   ProductId  Rating   Timestamp\n",
              "0  A39HTATAQ9V7YF  0205616461     5.0  1369699200\n",
              "1  A3JM6GV9MNOF9X  0558925278     3.0  1355443200\n",
              "2  A1Z513UWSAAO0F  0558925278     5.0  1404691200\n",
              "3  A1WMRR494NWEWV  0733001998     4.0  1382572800\n",
              "4  A3IAAVS479H7M7  0737104473     1.0  1274227200"
            ]
          },
          "metadata": {
            "tags": []
          },
          "execution_count": 2
        }
      ]
    },
    {
      "cell_type": "code",
      "metadata": {
        "colab": {
          "base_uri": "https://localhost:8080/"
        },
        "id": "ND7qG-dNMuRq",
        "outputId": "0d07c2c9-7a88-4abf-86a4-e080c2925d2c"
      },
      "source": [
        "dataset.shape"
      ],
      "execution_count": null,
      "outputs": [
        {
          "output_type": "execute_result",
          "data": {
            "text/plain": [
              "(2023070, 4)"
            ]
          },
          "metadata": {
            "tags": []
          },
          "execution_count": 3
        }
      ]
    },
    {
      "cell_type": "markdown",
      "metadata": {
        "id": "XAwiCXvyxJAx"
      },
      "source": [
        "The dataset has more than 2 million records and 4 features."
      ]
    },
    {
      "cell_type": "code",
      "metadata": {
        "colab": {
          "base_uri": "https://localhost:8080/"
        },
        "id": "6QO10cubM-Y3",
        "outputId": "488f124d-9804-44cd-ce18-79dfb7160a8a"
      },
      "source": [
        "dataset.info()"
      ],
      "execution_count": null,
      "outputs": [
        {
          "output_type": "stream",
          "text": [
            "<class 'pandas.core.frame.DataFrame'>\n",
            "RangeIndex: 2023070 entries, 0 to 2023069\n",
            "Data columns (total 4 columns):\n",
            " #   Column     Dtype  \n",
            "---  ------     -----  \n",
            " 0   UserId     object \n",
            " 1   ProductId  object \n",
            " 2   Rating     float64\n",
            " 3   Timestamp  int64  \n",
            "dtypes: float64(1), int64(1), object(2)\n",
            "memory usage: 61.7+ MB\n"
          ],
          "name": "stdout"
        }
      ]
    },
    {
      "cell_type": "code",
      "metadata": {
        "colab": {
          "base_uri": "https://localhost:8080/"
        },
        "id": "pxlV5aTTNBFD",
        "outputId": "23f0e0e1-c2b4-458a-fe00-db5c0d011ef1"
      },
      "source": [
        "#Find if the dataset contains any null values\n",
        "dataset.isnull().sum()"
      ],
      "execution_count": null,
      "outputs": [
        {
          "output_type": "execute_result",
          "data": {
            "text/plain": [
              "UserId       0\n",
              "ProductId    0\n",
              "Rating       0\n",
              "Timestamp    0\n",
              "dtype: int64"
            ]
          },
          "metadata": {
            "tags": []
          },
          "execution_count": 5
        }
      ]
    },
    {
      "cell_type": "code",
      "metadata": {
        "colab": {
          "base_uri": "https://localhost:8080/",
          "height": 110
        },
        "id": "x-U1BK4NyZxw",
        "outputId": "2d03b64c-9830-4a17-bf92-ae98c9b1fba6"
      },
      "source": [
        "dataset.describe().T"
      ],
      "execution_count": null,
      "outputs": [
        {
          "output_type": "execute_result",
          "data": {
            "text/html": [
              "<div>\n",
              "<style scoped>\n",
              "    .dataframe tbody tr th:only-of-type {\n",
              "        vertical-align: middle;\n",
              "    }\n",
              "\n",
              "    .dataframe tbody tr th {\n",
              "        vertical-align: top;\n",
              "    }\n",
              "\n",
              "    .dataframe thead th {\n",
              "        text-align: right;\n",
              "    }\n",
              "</style>\n",
              "<table border=\"1\" class=\"dataframe\">\n",
              "  <thead>\n",
              "    <tr style=\"text-align: right;\">\n",
              "      <th></th>\n",
              "      <th>count</th>\n",
              "      <th>mean</th>\n",
              "      <th>std</th>\n",
              "      <th>min</th>\n",
              "      <th>25%</th>\n",
              "      <th>50%</th>\n",
              "      <th>75%</th>\n",
              "      <th>max</th>\n",
              "    </tr>\n",
              "  </thead>\n",
              "  <tbody>\n",
              "    <tr>\n",
              "      <th>Rating</th>\n",
              "      <td>2023070.0</td>\n",
              "      <td>4.149036e+00</td>\n",
              "      <td>1.311505e+00</td>\n",
              "      <td>1.0</td>\n",
              "      <td>4.000000e+00</td>\n",
              "      <td>5.000000e+00</td>\n",
              "      <td>5.000000e+00</td>\n",
              "      <td>5.000000e+00</td>\n",
              "    </tr>\n",
              "    <tr>\n",
              "      <th>Timestamp</th>\n",
              "      <td>2023070.0</td>\n",
              "      <td>1.360389e+09</td>\n",
              "      <td>4.611860e+07</td>\n",
              "      <td>908755200.0</td>\n",
              "      <td>1.350259e+09</td>\n",
              "      <td>1.372810e+09</td>\n",
              "      <td>1.391472e+09</td>\n",
              "      <td>1.406074e+09</td>\n",
              "    </tr>\n",
              "  </tbody>\n",
              "</table>\n",
              "</div>"
            ],
            "text/plain": [
              "               count          mean  ...           75%           max\n",
              "Rating     2023070.0  4.149036e+00  ...  5.000000e+00  5.000000e+00\n",
              "Timestamp  2023070.0  1.360389e+09  ...  1.391472e+09  1.406074e+09\n",
              "\n",
              "[2 rows x 8 columns]"
            ]
          },
          "metadata": {
            "tags": []
          },
          "execution_count": 6
        }
      ]
    },
    {
      "cell_type": "markdown",
      "metadata": {
        "id": "jO0jeGJEyurT"
      },
      "source": [
        "* Minimum rating is `1` while the Maximum rating is `5`.\n",
        "* We have a total of 2023070 Records\n",
        "* Only 25% of the dataset falls between 1 to 4 rating\n",
        "* 75% of the dataset is in the Range 4 to 5 rating"
      ]
    },
    {
      "cell_type": "code",
      "metadata": {
        "colab": {
          "base_uri": "https://localhost:8080/",
          "height": 202
        },
        "id": "wYyOiKbwNFCC",
        "outputId": "eaf42ea1-c799-42e3-ca9e-50107b9c7508"
      },
      "source": [
        "#Converting timestamp to datetime Format.\n",
        "dataset['Datetime'] = dataset['Timestamp'].apply(lambda x:datetime.fromtimestamp(x))\n",
        "dataset.head()"
      ],
      "execution_count": null,
      "outputs": [
        {
          "output_type": "execute_result",
          "data": {
            "text/html": [
              "<div>\n",
              "<style scoped>\n",
              "    .dataframe tbody tr th:only-of-type {\n",
              "        vertical-align: middle;\n",
              "    }\n",
              "\n",
              "    .dataframe tbody tr th {\n",
              "        vertical-align: top;\n",
              "    }\n",
              "\n",
              "    .dataframe thead th {\n",
              "        text-align: right;\n",
              "    }\n",
              "</style>\n",
              "<table border=\"1\" class=\"dataframe\">\n",
              "  <thead>\n",
              "    <tr style=\"text-align: right;\">\n",
              "      <th></th>\n",
              "      <th>UserId</th>\n",
              "      <th>ProductId</th>\n",
              "      <th>Rating</th>\n",
              "      <th>Timestamp</th>\n",
              "      <th>Datetime</th>\n",
              "    </tr>\n",
              "  </thead>\n",
              "  <tbody>\n",
              "    <tr>\n",
              "      <th>0</th>\n",
              "      <td>A39HTATAQ9V7YF</td>\n",
              "      <td>0205616461</td>\n",
              "      <td>5.0</td>\n",
              "      <td>1369699200</td>\n",
              "      <td>2013-05-28</td>\n",
              "    </tr>\n",
              "    <tr>\n",
              "      <th>1</th>\n",
              "      <td>A3JM6GV9MNOF9X</td>\n",
              "      <td>0558925278</td>\n",
              "      <td>3.0</td>\n",
              "      <td>1355443200</td>\n",
              "      <td>2012-12-14</td>\n",
              "    </tr>\n",
              "    <tr>\n",
              "      <th>2</th>\n",
              "      <td>A1Z513UWSAAO0F</td>\n",
              "      <td>0558925278</td>\n",
              "      <td>5.0</td>\n",
              "      <td>1404691200</td>\n",
              "      <td>2014-07-07</td>\n",
              "    </tr>\n",
              "    <tr>\n",
              "      <th>3</th>\n",
              "      <td>A1WMRR494NWEWV</td>\n",
              "      <td>0733001998</td>\n",
              "      <td>4.0</td>\n",
              "      <td>1382572800</td>\n",
              "      <td>2013-10-24</td>\n",
              "    </tr>\n",
              "    <tr>\n",
              "      <th>4</th>\n",
              "      <td>A3IAAVS479H7M7</td>\n",
              "      <td>0737104473</td>\n",
              "      <td>1.0</td>\n",
              "      <td>1274227200</td>\n",
              "      <td>2010-05-19</td>\n",
              "    </tr>\n",
              "  </tbody>\n",
              "</table>\n",
              "</div>"
            ],
            "text/plain": [
              "           UserId   ProductId  Rating   Timestamp   Datetime\n",
              "0  A39HTATAQ9V7YF  0205616461     5.0  1369699200 2013-05-28\n",
              "1  A3JM6GV9MNOF9X  0558925278     3.0  1355443200 2012-12-14\n",
              "2  A1Z513UWSAAO0F  0558925278     5.0  1404691200 2014-07-07\n",
              "3  A1WMRR494NWEWV  0733001998     4.0  1382572800 2013-10-24\n",
              "4  A3IAAVS479H7M7  0737104473     1.0  1274227200 2010-05-19"
            ]
          },
          "metadata": {
            "tags": []
          },
          "execution_count": 7
        }
      ]
    },
    {
      "cell_type": "code",
      "metadata": {
        "colab": {
          "base_uri": "https://localhost:8080/",
          "height": 202
        },
        "id": "918Ofc-pEWJh",
        "outputId": "cd3fc6c2-fb88-400b-ebd3-4379bd806b7c"
      },
      "source": [
        "dataset.tail()"
      ],
      "execution_count": null,
      "outputs": [
        {
          "output_type": "execute_result",
          "data": {
            "text/html": [
              "<div>\n",
              "<style scoped>\n",
              "    .dataframe tbody tr th:only-of-type {\n",
              "        vertical-align: middle;\n",
              "    }\n",
              "\n",
              "    .dataframe tbody tr th {\n",
              "        vertical-align: top;\n",
              "    }\n",
              "\n",
              "    .dataframe thead th {\n",
              "        text-align: right;\n",
              "    }\n",
              "</style>\n",
              "<table border=\"1\" class=\"dataframe\">\n",
              "  <thead>\n",
              "    <tr style=\"text-align: right;\">\n",
              "      <th></th>\n",
              "      <th>UserId</th>\n",
              "      <th>ProductId</th>\n",
              "      <th>Rating</th>\n",
              "      <th>Timestamp</th>\n",
              "      <th>Datetime</th>\n",
              "    </tr>\n",
              "  </thead>\n",
              "  <tbody>\n",
              "    <tr>\n",
              "      <th>2023065</th>\n",
              "      <td>A3DEHKPFANB8VA</td>\n",
              "      <td>B00LORWRJA</td>\n",
              "      <td>5.0</td>\n",
              "      <td>1405296000</td>\n",
              "      <td>2014-07-14</td>\n",
              "    </tr>\n",
              "    <tr>\n",
              "      <th>2023066</th>\n",
              "      <td>A3DEHKPFANB8VA</td>\n",
              "      <td>B00LOS7MEE</td>\n",
              "      <td>5.0</td>\n",
              "      <td>1405296000</td>\n",
              "      <td>2014-07-14</td>\n",
              "    </tr>\n",
              "    <tr>\n",
              "      <th>2023067</th>\n",
              "      <td>AG9TJLJUN5OM3</td>\n",
              "      <td>B00LP2YB8E</td>\n",
              "      <td>5.0</td>\n",
              "      <td>1405382400</td>\n",
              "      <td>2014-07-15</td>\n",
              "    </tr>\n",
              "    <tr>\n",
              "      <th>2023068</th>\n",
              "      <td>AYBIB14QOI9PC</td>\n",
              "      <td>B00LPVG6V0</td>\n",
              "      <td>5.0</td>\n",
              "      <td>1405555200</td>\n",
              "      <td>2014-07-17</td>\n",
              "    </tr>\n",
              "    <tr>\n",
              "      <th>2023069</th>\n",
              "      <td>A1PB6OT0OOPKNQ</td>\n",
              "      <td>B00LU0LTOU</td>\n",
              "      <td>5.0</td>\n",
              "      <td>1405641600</td>\n",
              "      <td>2014-07-18</td>\n",
              "    </tr>\n",
              "  </tbody>\n",
              "</table>\n",
              "</div>"
            ],
            "text/plain": [
              "                 UserId   ProductId  Rating   Timestamp   Datetime\n",
              "2023065  A3DEHKPFANB8VA  B00LORWRJA     5.0  1405296000 2014-07-14\n",
              "2023066  A3DEHKPFANB8VA  B00LOS7MEE     5.0  1405296000 2014-07-14\n",
              "2023067   AG9TJLJUN5OM3  B00LP2YB8E     5.0  1405382400 2014-07-15\n",
              "2023068   AYBIB14QOI9PC  B00LPVG6V0     5.0  1405555200 2014-07-17\n",
              "2023069  A1PB6OT0OOPKNQ  B00LU0LTOU     5.0  1405641600 2014-07-18"
            ]
          },
          "metadata": {
            "tags": []
          },
          "execution_count": 8
        }
      ]
    },
    {
      "cell_type": "code",
      "metadata": {
        "id": "p8DqvUWzRfY4"
      },
      "source": [
        "dataset['day'] = dataset['Datetime'].dt.day\n",
        "dataset['month'] = dataset['Datetime'].dt.month\n",
        "dataset['year'] = dataset['Datetime'].dt.year"
      ],
      "execution_count": null,
      "outputs": []
    },
    {
      "cell_type": "code",
      "metadata": {
        "id": "mTCO70331_gr",
        "colab": {
          "base_uri": "https://localhost:8080/",
          "height": 202
        },
        "outputId": "27e48957-0602-4be0-bc37-d32e6095b242"
      },
      "source": [
        "dataset.head()"
      ],
      "execution_count": null,
      "outputs": [
        {
          "output_type": "execute_result",
          "data": {
            "text/html": [
              "<div>\n",
              "<style scoped>\n",
              "    .dataframe tbody tr th:only-of-type {\n",
              "        vertical-align: middle;\n",
              "    }\n",
              "\n",
              "    .dataframe tbody tr th {\n",
              "        vertical-align: top;\n",
              "    }\n",
              "\n",
              "    .dataframe thead th {\n",
              "        text-align: right;\n",
              "    }\n",
              "</style>\n",
              "<table border=\"1\" class=\"dataframe\">\n",
              "  <thead>\n",
              "    <tr style=\"text-align: right;\">\n",
              "      <th></th>\n",
              "      <th>UserId</th>\n",
              "      <th>ProductId</th>\n",
              "      <th>Rating</th>\n",
              "      <th>Timestamp</th>\n",
              "      <th>Datetime</th>\n",
              "      <th>day</th>\n",
              "      <th>month</th>\n",
              "      <th>year</th>\n",
              "    </tr>\n",
              "  </thead>\n",
              "  <tbody>\n",
              "    <tr>\n",
              "      <th>0</th>\n",
              "      <td>A39HTATAQ9V7YF</td>\n",
              "      <td>0205616461</td>\n",
              "      <td>5.0</td>\n",
              "      <td>1369699200</td>\n",
              "      <td>2013-05-28</td>\n",
              "      <td>28</td>\n",
              "      <td>5</td>\n",
              "      <td>2013</td>\n",
              "    </tr>\n",
              "    <tr>\n",
              "      <th>1</th>\n",
              "      <td>A3JM6GV9MNOF9X</td>\n",
              "      <td>0558925278</td>\n",
              "      <td>3.0</td>\n",
              "      <td>1355443200</td>\n",
              "      <td>2012-12-14</td>\n",
              "      <td>14</td>\n",
              "      <td>12</td>\n",
              "      <td>2012</td>\n",
              "    </tr>\n",
              "    <tr>\n",
              "      <th>2</th>\n",
              "      <td>A1Z513UWSAAO0F</td>\n",
              "      <td>0558925278</td>\n",
              "      <td>5.0</td>\n",
              "      <td>1404691200</td>\n",
              "      <td>2014-07-07</td>\n",
              "      <td>7</td>\n",
              "      <td>7</td>\n",
              "      <td>2014</td>\n",
              "    </tr>\n",
              "    <tr>\n",
              "      <th>3</th>\n",
              "      <td>A1WMRR494NWEWV</td>\n",
              "      <td>0733001998</td>\n",
              "      <td>4.0</td>\n",
              "      <td>1382572800</td>\n",
              "      <td>2013-10-24</td>\n",
              "      <td>24</td>\n",
              "      <td>10</td>\n",
              "      <td>2013</td>\n",
              "    </tr>\n",
              "    <tr>\n",
              "      <th>4</th>\n",
              "      <td>A3IAAVS479H7M7</td>\n",
              "      <td>0737104473</td>\n",
              "      <td>1.0</td>\n",
              "      <td>1274227200</td>\n",
              "      <td>2010-05-19</td>\n",
              "      <td>19</td>\n",
              "      <td>5</td>\n",
              "      <td>2010</td>\n",
              "    </tr>\n",
              "  </tbody>\n",
              "</table>\n",
              "</div>"
            ],
            "text/plain": [
              "           UserId   ProductId  Rating   Timestamp   Datetime  day  month  year\n",
              "0  A39HTATAQ9V7YF  0205616461     5.0  1369699200 2013-05-28   28      5  2013\n",
              "1  A3JM6GV9MNOF9X  0558925278     3.0  1355443200 2012-12-14   14     12  2012\n",
              "2  A1Z513UWSAAO0F  0558925278     5.0  1404691200 2014-07-07    7      7  2014\n",
              "3  A1WMRR494NWEWV  0733001998     4.0  1382572800 2013-10-24   24     10  2013\n",
              "4  A3IAAVS479H7M7  0737104473     1.0  1274227200 2010-05-19   19      5  2010"
            ]
          },
          "metadata": {
            "tags": []
          },
          "execution_count": 10
        }
      ]
    },
    {
      "cell_type": "code",
      "metadata": {
        "id": "6pFBe8XqNUjp"
      },
      "source": [
        "#function for adding percentage on top of the count bars\n",
        "def without_hue(plot, feature):\n",
        "    total = len(feature)\n",
        "    for p in plot.patches:\n",
        "        percentage = '{:.1f}%'.format(100 * p.get_height()/total)\n",
        "        x = p.get_x() + p.get_width() / 2 - 0.05\n",
        "        y = p.get_y() + p.get_height()+20000\n",
        "        ax.annotate(percentage, (x, y), size = 12)\n",
        "    plt.show()"
      ],
      "execution_count": null,
      "outputs": []
    },
    {
      "cell_type": "code",
      "metadata": {
        "colab": {
          "base_uri": "https://localhost:8080/",
          "height": 414
        },
        "id": "Zh4Vf0XdLZpW",
        "outputId": "c3e4ca9b-db49-4606-ca60-fba333e66771"
      },
      "source": [
        "#Finding the unique count of each kind of Rating\n",
        "plt.figure(figsize=(12,6))\n",
        "ax = sns.countplot(dataset['Rating'],edgecolor=sns.color_palette(\"dark\", 3),facecolor = (0,0,0,0),linewidth = 5)\n",
        "plt.xticks(size=12)\n",
        "plt.xlabel('Rating',size=15)\n",
        "plt.ylabel('Count',size=15)\n",
        "plt.title('Distribution of overall Rating of Amazon Products',size=15)\n",
        "without_hue(ax,dataset.Rating)\n",
        "plt.show()"
      ],
      "execution_count": null,
      "outputs": [
        {
          "output_type": "display_data",
          "data": {
            "image/png": "[encoded data removed]",
            "text/plain": [
              "<Figure size 864x432 with 1 Axes>"
            ]
          },
          "metadata": {
            "tags": [],
            "needs_background": "light"
          }
        }
      ]
    },
    {
      "cell_type": "code",
      "metadata": {
        "colab": {
          "base_uri": "https://localhost:8080/",
          "height": 422
        },
        "id": "RT33j5bqMZWz",
        "outputId": "acf75430-e86e-4d67-ddb3-0b0e348192a3"
      },
      "source": [
        "# Number of reviews per year\n",
        "plt.figure(figsize=(12,6))\n",
        "yearly = dataset.groupby(['year'])['Rating'].count().reset_index()\n",
        "yearly = yearly.rename(columns={'Rating':'no_of_Rating'})\n",
        "yearChart = sns.lineplot(x='year',y='no_of_Rating',data=yearly)\n",
        "yearChart.set_title('No of reviews over years')"
      ],
      "execution_count": null,
      "outputs": [
        {
          "output_type": "execute_result",
          "data": {
            "text/plain": [
              "Text(0.5, 1.0, 'No of reviews over years')"
            ]
          },
          "metadata": {
            "tags": []
          },
          "execution_count": 13
        },
        {
          "output_type": "display_data",
          "data": {
            "image/png": "[encoded data removed]",
            "text/plain": [
              "<Figure size 864x432 with 1 Axes>"
            ]
          },
          "metadata": {
            "tags": [],
            "needs_background": "light"
          }
        }
      ]
    },
    {
      "cell_type": "markdown",
      "metadata": {
        "id": "6mDtsXfihXWN"
      },
      "source": [
        "* We can see that there is an increase in the trend from 2010 onwards. Which suggest that the number of users of amazon increased from 2010 and also users started rating the products.\n",
        "* "
      ]
    },
    {
      "cell_type": "code",
      "metadata": {
        "colab": {
          "base_uri": "https://localhost:8080/",
          "height": 570
        },
        "id": "9JsG0ygSFxiS",
        "outputId": "f3ee7089-20b2-4e1e-b861-eea43737d9cc"
      },
      "source": [
        "yearly"
      ],
      "execution_count": null,
      "outputs": [
        {
          "output_type": "execute_result",
          "data": {
            "text/html": [
              "<div>\n",
              "<style scoped>\n",
              "    .dataframe tbody tr th:only-of-type {\n",
              "        vertical-align: middle;\n",
              "    }\n",
              "\n",
              "    .dataframe tbody tr th {\n",
              "        vertical-align: top;\n",
              "    }\n",
              "\n",
              "    .dataframe thead th {\n",
              "        text-align: right;\n",
              "    }\n",
              "</style>\n",
              "<table border=\"1\" class=\"dataframe\">\n",
              "  <thead>\n",
              "    <tr style=\"text-align: right;\">\n",
              "      <th></th>\n",
              "      <th>year</th>\n",
              "      <th>no_of_Rating</th>\n",
              "    </tr>\n",
              "  </thead>\n",
              "  <tbody>\n",
              "    <tr>\n",
              "      <th>0</th>\n",
              "      <td>1998</td>\n",
              "      <td>2</td>\n",
              "    </tr>\n",
              "    <tr>\n",
              "      <th>1</th>\n",
              "      <td>1999</td>\n",
              "      <td>5</td>\n",
              "    </tr>\n",
              "    <tr>\n",
              "      <th>2</th>\n",
              "      <td>2000</td>\n",
              "      <td>16</td>\n",
              "    </tr>\n",
              "    <tr>\n",
              "      <th>3</th>\n",
              "      <td>2001</td>\n",
              "      <td>76</td>\n",
              "    </tr>\n",
              "    <tr>\n",
              "      <th>4</th>\n",
              "      <td>2002</td>\n",
              "      <td>163</td>\n",
              "    </tr>\n",
              "    <tr>\n",
              "      <th>5</th>\n",
              "      <td>2003</td>\n",
              "      <td>278</td>\n",
              "    </tr>\n",
              "    <tr>\n",
              "      <th>6</th>\n",
              "      <td>2004</td>\n",
              "      <td>1308</td>\n",
              "    </tr>\n",
              "    <tr>\n",
              "      <th>7</th>\n",
              "      <td>2005</td>\n",
              "      <td>3476</td>\n",
              "    </tr>\n",
              "    <tr>\n",
              "      <th>8</th>\n",
              "      <td>2006</td>\n",
              "      <td>5990</td>\n",
              "    </tr>\n",
              "    <tr>\n",
              "      <th>9</th>\n",
              "      <td>2007</td>\n",
              "      <td>17728</td>\n",
              "    </tr>\n",
              "    <tr>\n",
              "      <th>10</th>\n",
              "      <td>2008</td>\n",
              "      <td>28862</td>\n",
              "    </tr>\n",
              "    <tr>\n",
              "      <th>11</th>\n",
              "      <td>2009</td>\n",
              "      <td>41429</td>\n",
              "    </tr>\n",
              "    <tr>\n",
              "      <th>12</th>\n",
              "      <td>2010</td>\n",
              "      <td>71236</td>\n",
              "    </tr>\n",
              "    <tr>\n",
              "      <th>13</th>\n",
              "      <td>2011</td>\n",
              "      <td>147490</td>\n",
              "    </tr>\n",
              "    <tr>\n",
              "      <th>14</th>\n",
              "      <td>2012</td>\n",
              "      <td>293339</td>\n",
              "    </tr>\n",
              "    <tr>\n",
              "      <th>15</th>\n",
              "      <td>2013</td>\n",
              "      <td>798903</td>\n",
              "    </tr>\n",
              "    <tr>\n",
              "      <th>16</th>\n",
              "      <td>2014</td>\n",
              "      <td>612769</td>\n",
              "    </tr>\n",
              "  </tbody>\n",
              "</table>\n",
              "</div>"
            ],
            "text/plain": [
              "    year  no_of_Rating\n",
              "0   1998             2\n",
              "1   1999             5\n",
              "2   2000            16\n",
              "3   2001            76\n",
              "4   2002           163\n",
              "5   2003           278\n",
              "6   2004          1308\n",
              "7   2005          3476\n",
              "8   2006          5990\n",
              "9   2007         17728\n",
              "10  2008         28862\n",
              "11  2009         41429\n",
              "12  2010         71236\n",
              "13  2011        147490\n",
              "14  2012        293339\n",
              "15  2013        798903\n",
              "16  2014        612769"
            ]
          },
          "metadata": {
            "tags": []
          },
          "execution_count": 14
        }
      ]
    },
    {
      "cell_type": "code",
      "metadata": {
        "colab": {
          "base_uri": "https://localhost:8080/",
          "height": 440
        },
        "id": "TxrpvuKuRKle",
        "outputId": "b076a354-977a-4f43-aae8-a7ae08394f25"
      },
      "source": [
        "#--- Monthly Reviews\n",
        "plt.figure(figsize=(12,6))\n",
        "monthly = dataset.groupby(['month'])['UserId'].count().reset_index()\n",
        "monthly['month'] = monthly['month'].apply(lambda x : calendar.month_name[x])\n",
        "monthly = monthly.rename(columns={'UserId':'no_of_reviews'})\n",
        "monthChart = sns.barplot(x='month',y='no_of_reviews',data=monthly)\n",
        "monthChart.set_title('No of reviews over month')\n",
        "monthChart.set_xticklabels(monthChart.get_xticklabels(), rotation = 45, horizontalalignment = 'right')\n",
        "plt.show()"
      ],
      "execution_count": null,
      "outputs": [
        {
          "output_type": "display_data",
          "data": {
            "image/png": "[encoded data removed]",
            "text/plain": [
              "<Figure size 864x432 with 1 Axes>"
            ]
          },
          "metadata": {
            "tags": [],
            "needs_background": "light"
          }
        }
      ]
    },
    {
      "cell_type": "code",
      "metadata": {
        "id": "5M_BZCL3cKu-"
      },
      "source": [
        "#Year wise count of Amazon products with particular rating\n",
        "rating_1 = dataset[dataset['Rating']==1]\n",
        "rating_2 = dataset[dataset['Rating']==2]\n",
        "rating_3 = dataset[dataset['Rating']==3]\n",
        "rating_4 = dataset[dataset['Rating']==4]\n",
        "rating_5 = dataset[dataset['Rating']==5]"
      ],
      "execution_count": null,
      "outputs": []
    },
    {
      "cell_type": "code",
      "metadata": {
        "colab": {
          "base_uri": "https://localhost:8080/",
          "height": 1000
        },
        "id": "UWg2ol-Qmt0L",
        "outputId": "810bd59c-c511-44da-9421-ff98517a9db6"
      },
      "source": [
        "ratings = [rating_1,rating_2,rating_3,rating_4,rating_5]\n",
        "count=1\n",
        "for rat in ratings:\n",
        "  plt.figure(figsize=(12,2.8))\n",
        "  sns.countplot(rat['year'])\n",
        "  plt.title('Rating'+str(count))\n",
        "  count+=1"
      ],
      "execution_count": null,
      "outputs": [
        {
          "output_type": "display_data",
          "data": {
            "image/png": "[encoded data removed]",
            "text/plain": [
              "<Figure size 864x201.6 with 1 Axes>"
            ]
          },
          "metadata": {
            "tags": [],
            "needs_background": "light"
          }
        },
        {
          "output_type": "display_data",
          "data": {
            "image/png": "[encoded data removed]",
            "text/plain": [
              "<Figure size 864x201.6 with 1 Axes>"
            ]
          },
          "metadata": {
            "tags": [],
            "needs_background": "light"
          }
        },
        {
          "output_type": "display_data",
          "data": {
            "image/png": "[encoded data removed]",
            "text/plain": [
              "<Figure size 864x201.6 with 1 Axes>"
            ]
          },
          "metadata": {
            "tags": [],
            "needs_background": "light"
          }
        },
        {
          "output_type": "display_data",
          "data": {
            "image/png": "[encoded data removed]",
            "text/plain": [
              "<Figure size 864x201.6 with 1 Axes>"
            ]
          },
          "metadata": {
            "tags": [],
            "needs_background": "light"
          }
        },
        {
          "output_type": "display_data",
          "data": {
            "image/png": "[encoded data removed]",
            "text/plain": [
              "<Figure size 864x201.6 with 1 Axes>"
            ]
          },
          "metadata": {
            "tags": [],
            "needs_background": "light"
          }
        }
      ]
    },
    {
      "cell_type": "markdown",
      "metadata": {
        "id": "egSc34nqp6Gm"
      },
      "source": [
        "* Number of products with ratings `1`,`2`,`3` is significantly less as compared with `4` and `5`. \n",
        "* Ratings with `1`,`2`,`3` is below 1 lakhs while the rating for `4` and `5` is above 5 Lakhs.\n",
        "* From 2011 There is a raise in users providing rating which indicates that the users of amazon increased from 2011."
      ]
    },
    {
      "cell_type": "code",
      "metadata": {
        "id": "kxudQsrvoR9I"
      },
      "source": [
        "#Most popular products by user\n",
        "most_popular = dataset.groupby('ProductId')['Rating'].count().reset_index()\n",
        "most_popular = most_popular.rename(columns={'Rating':'Counts'})\n",
        "most_popular.sort_values(by='Counts',ascending=False,inplace=True)\n",
        "top_20_most_popular = most_popular.head(20)"
      ],
      "execution_count": null,
      "outputs": []
    },
    {
      "cell_type": "code",
      "metadata": {
        "colab": {
          "base_uri": "https://localhost:8080/",
          "height": 482
        },
        "id": "vZ11rjfwFgnW",
        "outputId": "ac4e41f5-dbc3-4230-daf0-eef8efbd292e"
      },
      "source": [
        "plt.figure(figsize=(12,6))\n",
        "plt.xticks(rotation = 90)\n",
        "sns.barplot(x=top_20_most_popular['ProductId'],y=top_20_most_popular['Counts'])\n",
        "plt.title('Top 20 most popular product by user')"
      ],
      "execution_count": null,
      "outputs": [
        {
          "output_type": "execute_result",
          "data": {
            "text/plain": [
              "Text(0.5, 1.0, 'Top 20 most popular product by user')"
            ]
          },
          "metadata": {
            "tags": []
          },
          "execution_count": 19
        },
        {
          "output_type": "display_data",
          "data": {
            "image/png": "[encoded data removed]",
            "text/plain": [
              "<Figure size 864x432 with 1 Axes>"
            ]
          },
          "metadata": {
            "tags": [],
            "needs_background": "light"
          }
        }
      ]
    },
    {
      "cell_type": "code",
      "metadata": {
        "colab": {
          "base_uri": "https://localhost:8080/",
          "height": 662
        },
        "id": "SRKlf6U-Fhy0",
        "outputId": "5494c84c-160b-40d9-abae-09e0f8ae07bd"
      },
      "source": [
        "top_20_most_popular"
      ],
      "execution_count": null,
      "outputs": [
        {
          "output_type": "execute_result",
          "data": {
            "text/html": [
              "<div>\n",
              "<style scoped>\n",
              "    .dataframe tbody tr th:only-of-type {\n",
              "        vertical-align: middle;\n",
              "    }\n",
              "\n",
              "    .dataframe tbody tr th {\n",
              "        vertical-align: top;\n",
              "    }\n",
              "\n",
              "    .dataframe thead th {\n",
              "        text-align: right;\n",
              "    }\n",
              "</style>\n",
              "<table border=\"1\" class=\"dataframe\">\n",
              "  <thead>\n",
              "    <tr style=\"text-align: right;\">\n",
              "      <th></th>\n",
              "      <th>ProductId</th>\n",
              "      <th>Counts</th>\n",
              "    </tr>\n",
              "  </thead>\n",
              "  <tbody>\n",
              "    <tr>\n",
              "      <th>65766</th>\n",
              "      <td>B001MA0QY2</td>\n",
              "      <td>7533</td>\n",
              "    </tr>\n",
              "    <tr>\n",
              "      <th>10516</th>\n",
              "      <td>B0009V1YR8</td>\n",
              "      <td>2869</td>\n",
              "    </tr>\n",
              "    <tr>\n",
              "      <th>110873</th>\n",
              "      <td>B0043OYFKU</td>\n",
              "      <td>2477</td>\n",
              "    </tr>\n",
              "    <tr>\n",
              "      <th>2365</th>\n",
              "      <td>B0000YUXI0</td>\n",
              "      <td>2143</td>\n",
              "    </tr>\n",
              "    <tr>\n",
              "      <th>105018</th>\n",
              "      <td>B003V265QW</td>\n",
              "      <td>2088</td>\n",
              "    </tr>\n",
              "    <tr>\n",
              "      <th>41474</th>\n",
              "      <td>B000ZMBSPE</td>\n",
              "      <td>2041</td>\n",
              "    </tr>\n",
              "    <tr>\n",
              "      <th>94769</th>\n",
              "      <td>B003BQ6QXK</td>\n",
              "      <td>1918</td>\n",
              "    </tr>\n",
              "    <tr>\n",
              "      <th>124659</th>\n",
              "      <td>B004OHQR1Q</td>\n",
              "      <td>1885</td>\n",
              "    </tr>\n",
              "    <tr>\n",
              "      <th>43368</th>\n",
              "      <td>B00121UVU0</td>\n",
              "      <td>1838</td>\n",
              "    </tr>\n",
              "    <tr>\n",
              "      <th>17629</th>\n",
              "      <td>B000FS05VG</td>\n",
              "      <td>1589</td>\n",
              "    </tr>\n",
              "    <tr>\n",
              "      <th>2693</th>\n",
              "      <td>B000142FVW</td>\n",
              "      <td>1558</td>\n",
              "    </tr>\n",
              "    <tr>\n",
              "      <th>112913</th>\n",
              "      <td>B0046VGPHQ</td>\n",
              "      <td>1475</td>\n",
              "    </tr>\n",
              "    <tr>\n",
              "      <th>63375</th>\n",
              "      <td>B001JKTTVQ</td>\n",
              "      <td>1468</td>\n",
              "    </tr>\n",
              "    <tr>\n",
              "      <th>120418</th>\n",
              "      <td>B004INUWX0</td>\n",
              "      <td>1430</td>\n",
              "    </tr>\n",
              "    <tr>\n",
              "      <th>33868</th>\n",
              "      <td>B000TKH6G2</td>\n",
              "      <td>1379</td>\n",
              "    </tr>\n",
              "    <tr>\n",
              "      <th>113923</th>\n",
              "      <td>B0048O2R1E</td>\n",
              "      <td>1349</td>\n",
              "    </tr>\n",
              "    <tr>\n",
              "      <th>47157</th>\n",
              "      <td>B00150LT40</td>\n",
              "      <td>1349</td>\n",
              "    </tr>\n",
              "    <tr>\n",
              "      <th>103349</th>\n",
              "      <td>B003S516XO</td>\n",
              "      <td>1347</td>\n",
              "    </tr>\n",
              "    <tr>\n",
              "      <th>50670</th>\n",
              "      <td>B00188IFHS</td>\n",
              "      <td>1341</td>\n",
              "    </tr>\n",
              "    <tr>\n",
              "      <th>136446</th>\n",
              "      <td>B0056GDG90</td>\n",
              "      <td>1333</td>\n",
              "    </tr>\n",
              "  </tbody>\n",
              "</table>\n",
              "</div>"
            ],
            "text/plain": [
              "         ProductId  Counts\n",
              "65766   B001MA0QY2    7533\n",
              "10516   B0009V1YR8    2869\n",
              "110873  B0043OYFKU    2477\n",
              "2365    B0000YUXI0    2143\n",
              "105018  B003V265QW    2088\n",
              "41474   B000ZMBSPE    2041\n",
              "94769   B003BQ6QXK    1918\n",
              "124659  B004OHQR1Q    1885\n",
              "43368   B00121UVU0    1838\n",
              "17629   B000FS05VG    1589\n",
              "2693    B000142FVW    1558\n",
              "112913  B0046VGPHQ    1475\n",
              "63375   B001JKTTVQ    1468\n",
              "120418  B004INUWX0    1430\n",
              "33868   B000TKH6G2    1379\n",
              "113923  B0048O2R1E    1349\n",
              "47157   B00150LT40    1349\n",
              "103349  B003S516XO    1347\n",
              "50670   B00188IFHS    1341\n",
              "136446  B0056GDG90    1333"
            ]
          },
          "metadata": {
            "tags": []
          },
          "execution_count": 20
        }
      ]
    },
    {
      "cell_type": "code",
      "metadata": {
        "id": "PSOoVKYTHOwi"
      },
      "source": [
        "#Users who rated most number of prodcuts\n",
        "most_popular_user = dataset.groupby('UserId')['Rating'].count().reset_index()\n",
        "most_popular_user = most_popular_user.rename(columns={'Rating':'Counts'})\n",
        "most_popular_user.sort_values(by='Counts',ascending=False,inplace=True)\n",
        "most_popular_user.reset_index(inplace=True)\n",
        "top_20_most_popular = most_popular_user.head(20)"
      ],
      "execution_count": null,
      "outputs": []
    },
    {
      "cell_type": "code",
      "metadata": {
        "colab": {
          "base_uri": "https://localhost:8080/",
          "height": 512
        },
        "id": "rmwKhdlGIcxS",
        "outputId": "3c87e35a-8466-40b3-c81a-94ccb62579d2"
      },
      "source": [
        "plt.figure(figsize=(12,6))\n",
        "plt.xticks(rotation = 90)\n",
        "sns.barplot(x=top_20_most_popular['UserId'],y=top_20_most_popular['Counts'])\n",
        "plt.title('Top 20 user who provided most number of Rating')"
      ],
      "execution_count": null,
      "outputs": [
        {
          "output_type": "execute_result",
          "data": {
            "text/plain": [
              "Text(0.5, 1.0, 'Top 20 user who provided most number of Rating')"
            ]
          },
          "metadata": {
            "tags": []
          },
          "execution_count": 22
        },
        {
          "output_type": "display_data",
          "data": {
            "image/png": "[encoded data removed]",
            "text/plain": [
              "<Figure size 864x432 with 1 Axes>"
            ]
          },
          "metadata": {
            "tags": [],
            "needs_background": "light"
          }
        }
      ]
    },
    {
      "cell_type": "code",
      "metadata": {
        "id": "DBEUarQSIgJD",
        "colab": {
          "base_uri": "https://localhost:8080/",
          "height": 414
        },
        "outputId": "bb45ae42-b999-441c-f5de-18968eb1c81f"
      },
      "source": [
        "most_popular_user"
      ],
      "execution_count": null,
      "outputs": [
        {
          "output_type": "execute_result",
          "data": {
            "text/html": [
              "<div>\n",
              "<style scoped>\n",
              "    .dataframe tbody tr th:only-of-type {\n",
              "        vertical-align: middle;\n",
              "    }\n",
              "\n",
              "    .dataframe tbody tr th {\n",
              "        vertical-align: top;\n",
              "    }\n",
              "\n",
              "    .dataframe thead th {\n",
              "        text-align: right;\n",
              "    }\n",
              "</style>\n",
              "<table border=\"1\" class=\"dataframe\">\n",
              "  <thead>\n",
              "    <tr style=\"text-align: right;\">\n",
              "      <th></th>\n",
              "      <th>index</th>\n",
              "      <th>UserId</th>\n",
              "      <th>Counts</th>\n",
              "    </tr>\n",
              "  </thead>\n",
              "  <tbody>\n",
              "    <tr>\n",
              "      <th>0</th>\n",
              "      <td>821601</td>\n",
              "      <td>A3KEZLJ59C1JVH</td>\n",
              "      <td>389</td>\n",
              "    </tr>\n",
              "    <tr>\n",
              "      <th>1</th>\n",
              "      <td>391642</td>\n",
              "      <td>A281NPSIMI1C2R</td>\n",
              "      <td>336</td>\n",
              "    </tr>\n",
              "    <tr>\n",
              "      <th>2</th>\n",
              "      <td>835886</td>\n",
              "      <td>A3M174IC0VXOS2</td>\n",
              "      <td>326</td>\n",
              "    </tr>\n",
              "    <tr>\n",
              "      <th>3</th>\n",
              "      <td>597619</td>\n",
              "      <td>A2V5R832QCSOMX</td>\n",
              "      <td>278</td>\n",
              "    </tr>\n",
              "    <tr>\n",
              "      <th>4</th>\n",
              "      <td>831533</td>\n",
              "      <td>A3LJLRIZL38GG3</td>\n",
              "      <td>276</td>\n",
              "    </tr>\n",
              "    <tr>\n",
              "      <th>...</th>\n",
              "      <td>...</td>\n",
              "      <td>...</td>\n",
              "      <td>...</td>\n",
              "    </tr>\n",
              "    <tr>\n",
              "      <th>1210266</th>\n",
              "      <td>464873</td>\n",
              "      <td>A2G8M8PDTN09UZ</td>\n",
              "      <td>1</td>\n",
              "    </tr>\n",
              "    <tr>\n",
              "      <th>1210267</th>\n",
              "      <td>464874</td>\n",
              "      <td>A2G8MAFIIQSJ42</td>\n",
              "      <td>1</td>\n",
              "    </tr>\n",
              "    <tr>\n",
              "      <th>1210268</th>\n",
              "      <td>464877</td>\n",
              "      <td>A2G8MTKRE6MV52</td>\n",
              "      <td>1</td>\n",
              "    </tr>\n",
              "    <tr>\n",
              "      <th>1210269</th>\n",
              "      <td>464879</td>\n",
              "      <td>A2G8MWBXG6JIY6</td>\n",
              "      <td>1</td>\n",
              "    </tr>\n",
              "    <tr>\n",
              "      <th>1210270</th>\n",
              "      <td>1210270</td>\n",
              "      <td>AZZZU2TD7Q3ET</td>\n",
              "      <td>1</td>\n",
              "    </tr>\n",
              "  </tbody>\n",
              "</table>\n",
              "<p>1210271 rows × 3 columns</p>\n",
              "</div>"
            ],
            "text/plain": [
              "           index          UserId  Counts\n",
              "0         821601  A3KEZLJ59C1JVH     389\n",
              "1         391642  A281NPSIMI1C2R     336\n",
              "2         835886  A3M174IC0VXOS2     326\n",
              "3         597619  A2V5R832QCSOMX     278\n",
              "4         831533  A3LJLRIZL38GG3     276\n",
              "...          ...             ...     ...\n",
              "1210266   464873  A2G8M8PDTN09UZ       1\n",
              "1210267   464874  A2G8MAFIIQSJ42       1\n",
              "1210268   464877  A2G8MTKRE6MV52       1\n",
              "1210269   464879  A2G8MWBXG6JIY6       1\n",
              "1210270  1210270   AZZZU2TD7Q3ET       1\n",
              "\n",
              "[1210271 rows x 3 columns]"
            ]
          },
          "metadata": {
            "tags": []
          },
          "execution_count": 23
        }
      ]
    },
    {
      "cell_type": "code",
      "metadata": {
        "colab": {
          "base_uri": "https://localhost:8080/"
        },
        "id": "ukRomprB_ega",
        "outputId": "48c94d1c-9b4d-48ce-b828-c3aef28adc8b"
      },
      "source": [
        "(most_popular_user['Counts']>=5).sum()"
      ],
      "execution_count": null,
      "outputs": [
        {
          "output_type": "execute_result",
          "data": {
            "text/plain": [
              "52374"
            ]
          },
          "metadata": {
            "tags": []
          },
          "execution_count": 24
        }
      ]
    },
    {
      "cell_type": "code",
      "metadata": {
        "colab": {
          "base_uri": "https://localhost:8080/"
        },
        "id": "-nAsXqdrID6_",
        "outputId": "90b67d7b-a1fc-4255-9db2-8d78997b7cab"
      },
      "source": [
        "#Number of unique users\n",
        "print('Number of unique users are :', len(dataset['UserId'].unique()))"
      ],
      "execution_count": null,
      "outputs": [
        {
          "output_type": "stream",
          "text": [
            "Number of unique users are : 1210271\n"
          ],
          "name": "stdout"
        }
      ]
    },
    {
      "cell_type": "code",
      "metadata": {
        "colab": {
          "base_uri": "https://localhost:8080/"
        },
        "id": "uBsL_aGpID3t",
        "outputId": "1a536796-ce6e-406a-886a-b66f068e2ce8"
      },
      "source": [
        "#Number of unique products\n",
        "print('Number of unique products', len(dataset['ProductId'].unique()))"
      ],
      "execution_count": null,
      "outputs": [
        {
          "output_type": "stream",
          "text": [
            "Number of unique products 249274\n"
          ],
          "name": "stdout"
        }
      ]
    },
    {
      "cell_type": "code",
      "metadata": {
        "colab": {
          "base_uri": "https://localhost:8080/"
        },
        "id": "v--kPY0aIDwA",
        "outputId": "83bb7908-0adc-408e-c660-69098910ea94"
      },
      "source": [
        "#Unique Ratings\n",
        "print('Unique Ratings', dataset['Rating'].unique())"
      ],
      "execution_count": null,
      "outputs": [
        {
          "output_type": "stream",
          "text": [
            "Unique Ratings [5. 3. 4. 1. 2.]\n"
          ],
          "name": "stdout"
        }
      ]
    },
    {
      "cell_type": "code",
      "metadata": {
        "id": "Z5B8HWSsIDpz"
      },
      "source": [
        "most_rated = dataset.groupby('UserId').size()"
      ],
      "execution_count": null,
      "outputs": []
    },
    {
      "cell_type": "code",
      "metadata": {
        "colab": {
          "base_uri": "https://localhost:8080/"
        },
        "id": "Jkd-N7OrIDmZ",
        "outputId": "b370a55d-e353-497e-e909-3e783a08d507"
      },
      "source": [
        "most_rated.sort_values(ascending=False)"
      ],
      "execution_count": null,
      "outputs": [
        {
          "output_type": "execute_result",
          "data": {
            "text/plain": [
              "UserId\n",
              "A3KEZLJ59C1JVH           389\n",
              "A281NPSIMI1C2R           336\n",
              "A3M174IC0VXOS2           326\n",
              "A2V5R832QCSOMX           278\n",
              "A3LJLRIZL38GG3           276\n",
              "                        ... \n",
              "A3BQ47C773YMU1             1\n",
              "A3BQ3Y37XL049D             1\n",
              "A3BQ3NGQ3JJBR3             1\n",
              "A3BQ3BW37JKZZ4             1\n",
              "A00008821J0F472NDY6A2      1\n",
              "Length: 1210271, dtype: int64"
            ]
          },
          "metadata": {
            "tags": []
          },
          "execution_count": 29
        }
      ]
    },
    {
      "cell_type": "markdown",
      "metadata": {
        "id": "2PgOSqvQY34-"
      },
      "source": [
        "# Taking a subset of the data to make it less sparse"
      ]
    },
    {
      "cell_type": "code",
      "metadata": {
        "id": "9zCyDuMB-f4j"
      },
      "source": [
        "#Group all the unique users\n",
        "users = dataset.groupby('UserId').count()"
      ],
      "execution_count": null,
      "outputs": []
    },
    {
      "cell_type": "code",
      "metadata": {
        "colab": {
          "base_uri": "https://localhost:8080/"
        },
        "id": "Di9xxoEjY3J1",
        "outputId": "bcfabd4a-a864-49fd-b86e-c15aafab92d9"
      },
      "source": [
        "#Filter users who have rated 10 or more products\n",
        "top_users = users[users['Rating']>=10].index\n",
        "top_users"
      ],
      "execution_count": null,
      "outputs": [
        {
          "output_type": "execute_result",
          "data": {
            "text/plain": [
              "Index(['A00473363TJ8YSZ3YAGG9', 'A00700212KB3K0MVESPIY',\n",
              "       'A0078719IR14X3NNUG0F', 'A01198201H0E3GHV2Z17I',\n",
              "       'A02155413BVL8D0G7X6DN', 'A02734382TCW13I4YD1LE',\n",
              "       'A029527620Q3SK5XW16RR', 'A03364251DGXSGA9PSR99',\n",
              "       'A042274212BJJVOBS4Q85', 'A07739331MLU43RRRK661',\n",
              "       ...\n",
              "       'AZV2AG96CRJ26', 'AZV7CNMMJERKW', 'AZW9UD7Z7J0WL', 'AZWJAXOQMB8EK',\n",
              "       'AZX1JTTIUYZX4', 'AZXP46IB63PU8', 'AZY3Z9QI0G8L', 'AZYA6NBTF2843',\n",
              "       'AZZ91VNEU3XYX', 'AZZT1ERHBSNQ8'],\n",
              "      dtype='object', name='UserId', length=12595)"
            ]
          },
          "metadata": {
            "tags": []
          },
          "execution_count": 31
        }
      ]
    },
    {
      "cell_type": "code",
      "metadata": {
        "id": "ZDG6yEsuSOvU"
      },
      "source": [
        "topuser_rating_df = dataset[dataset['UserId'].isin(top_users)]"
      ],
      "execution_count": null,
      "outputs": []
    },
    {
      "cell_type": "code",
      "metadata": {
        "colab": {
          "base_uri": "https://localhost:8080/",
          "height": 202
        },
        "id": "pJAvZ-ZyeCVE",
        "outputId": "28c46e40-2300-449b-aec5-69c104ae868d"
      },
      "source": [
        "#Get only the UserId,ProductId and Rating columns\n",
        "topuser_rating_df = topuser_rating_df[['UserId','ProductId','Rating']]\n",
        "topuser_rating_df.head()"
      ],
      "execution_count": null,
      "outputs": [
        {
          "output_type": "execute_result",
          "data": {
            "text/html": [
              "<div>\n",
              "<style scoped>\n",
              "    .dataframe tbody tr th:only-of-type {\n",
              "        vertical-align: middle;\n",
              "    }\n",
              "\n",
              "    .dataframe tbody tr th {\n",
              "        vertical-align: top;\n",
              "    }\n",
              "\n",
              "    .dataframe thead th {\n",
              "        text-align: right;\n",
              "    }\n",
              "</style>\n",
              "<table border=\"1\" class=\"dataframe\">\n",
              "  <thead>\n",
              "    <tr style=\"text-align: right;\">\n",
              "      <th></th>\n",
              "      <th>UserId</th>\n",
              "      <th>ProductId</th>\n",
              "      <th>Rating</th>\n",
              "    </tr>\n",
              "  </thead>\n",
              "  <tbody>\n",
              "    <tr>\n",
              "      <th>5</th>\n",
              "      <td>AKJHHD5VEH7VG</td>\n",
              "      <td>0762451459</td>\n",
              "      <td>5.0</td>\n",
              "    </tr>\n",
              "    <tr>\n",
              "      <th>6</th>\n",
              "      <td>A1BG8QW55XHN6U</td>\n",
              "      <td>1304139212</td>\n",
              "      <td>5.0</td>\n",
              "    </tr>\n",
              "    <tr>\n",
              "      <th>7</th>\n",
              "      <td>A22VW0P4VZHDE3</td>\n",
              "      <td>1304139220</td>\n",
              "      <td>5.0</td>\n",
              "    </tr>\n",
              "    <tr>\n",
              "      <th>10</th>\n",
              "      <td>A1BG8QW55XHN6U</td>\n",
              "      <td>130414643X</td>\n",
              "      <td>5.0</td>\n",
              "    </tr>\n",
              "    <tr>\n",
              "      <th>13</th>\n",
              "      <td>A22VW0P4VZHDE3</td>\n",
              "      <td>130414674X</td>\n",
              "      <td>5.0</td>\n",
              "    </tr>\n",
              "  </tbody>\n",
              "</table>\n",
              "</div>"
            ],
            "text/plain": [
              "            UserId   ProductId  Rating\n",
              "5    AKJHHD5VEH7VG  0762451459     5.0\n",
              "6   A1BG8QW55XHN6U  1304139212     5.0\n",
              "7   A22VW0P4VZHDE3  1304139220     5.0\n",
              "10  A1BG8QW55XHN6U  130414643X     5.0\n",
              "13  A22VW0P4VZHDE3  130414674X     5.0"
            ]
          },
          "metadata": {
            "tags": []
          },
          "execution_count": 33
        }
      ]
    },
    {
      "cell_type": "code",
      "metadata": {
        "colab": {
          "base_uri": "https://localhost:8080/"
        },
        "id": "XzPwHufVi3Gx",
        "outputId": "d15bd168-632b-4693-d3df-e4421c5890e0"
      },
      "source": [
        "topuser_rating_df.shape"
      ],
      "execution_count": null,
      "outputs": [
        {
          "output_type": "execute_result",
          "data": {
            "text/plain": [
              "(222897, 3)"
            ]
          },
          "metadata": {
            "tags": []
          },
          "execution_count": 34
        }
      ]
    },
    {
      "cell_type": "markdown",
      "metadata": {
        "id": "XpDvu1bxibPr"
      },
      "source": [
        "Here we can see that there are 222897 examples and 3 columns"
      ]
    },
    {
      "cell_type": "markdown",
      "metadata": {
        "id": "wQ8JMddMl_PB"
      },
      "source": [
        "###Keep data only for products that have 10 or more ratings"
      ]
    },
    {
      "cell_type": "code",
      "metadata": {
        "id": "FYHae0q3eTd8"
      },
      "source": [
        "products = dataset.groupby('ProductId').count()"
      ],
      "execution_count": null,
      "outputs": []
    },
    {
      "cell_type": "code",
      "metadata": {
        "id": "X19Zr0Rcmqxx"
      },
      "source": [
        "#Products which have been rated 10 or more times\n",
        "top_products = products[products['Rating']>=10].index"
      ],
      "execution_count": null,
      "outputs": []
    },
    {
      "cell_type": "code",
      "metadata": {
        "colab": {
          "base_uri": "https://localhost:8080/"
        },
        "id": "b8HKnFGHnC4A",
        "outputId": "f2c7b4a6-6727-47bf-dd60-79aa4f2eb775"
      },
      "source": [
        "top_products"
      ],
      "execution_count": null,
      "outputs": [
        {
          "output_type": "execute_result",
          "data": {
            "text/plain": [
              "Index(['1304351475', '1403790965', '3227001381', '535795531X', '5357955948',\n",
              "       '602260074X', '7535842801', '7806397051', '7899123011', '8096399322',\n",
              "       ...\n",
              "       'B00L6Q3BH6', 'B00L7BX4FE', 'B00L8JBNE4', 'B00LAOMUUS', 'B00LCE23JE',\n",
              "       'B00LCEROA2', 'B00LG63DOM', 'B00LJEACWC', 'B00LLPT4HI', 'B00LNOKBYW'],\n",
              "      dtype='object', name='ProductId', length=36938)"
            ]
          },
          "metadata": {
            "tags": []
          },
          "execution_count": 37
        }
      ]
    },
    {
      "cell_type": "code",
      "metadata": {
        "id": "AsEQmOHMnGS9"
      },
      "source": [
        "top_rating_prod = dataset[dataset['ProductId'].isin(top_products)]"
      ],
      "execution_count": null,
      "outputs": []
    },
    {
      "cell_type": "code",
      "metadata": {
        "colab": {
          "base_uri": "https://localhost:8080/",
          "height": 414
        },
        "id": "QSxFaFZVpGlq",
        "outputId": "b9cdac2d-e74a-4065-9633-7b87048780ec"
      },
      "source": [
        "top_rating_prod"
      ],
      "execution_count": null,
      "outputs": [
        {
          "output_type": "execute_result",
          "data": {
            "text/html": [
              "<div>\n",
              "<style scoped>\n",
              "    .dataframe tbody tr th:only-of-type {\n",
              "        vertical-align: middle;\n",
              "    }\n",
              "\n",
              "    .dataframe tbody tr th {\n",
              "        vertical-align: top;\n",
              "    }\n",
              "\n",
              "    .dataframe thead th {\n",
              "        text-align: right;\n",
              "    }\n",
              "</style>\n",
              "<table border=\"1\" class=\"dataframe\">\n",
              "  <thead>\n",
              "    <tr style=\"text-align: right;\">\n",
              "      <th></th>\n",
              "      <th>UserId</th>\n",
              "      <th>ProductId</th>\n",
              "      <th>Rating</th>\n",
              "      <th>Timestamp</th>\n",
              "      <th>Datetime</th>\n",
              "      <th>day</th>\n",
              "      <th>month</th>\n",
              "      <th>year</th>\n",
              "    </tr>\n",
              "  </thead>\n",
              "  <tbody>\n",
              "    <tr>\n",
              "      <th>26</th>\n",
              "      <td>A1RXI3A1E99112</td>\n",
              "      <td>1304351475</td>\n",
              "      <td>5.0</td>\n",
              "      <td>1405296000</td>\n",
              "      <td>2014-07-14</td>\n",
              "      <td>14</td>\n",
              "      <td>7</td>\n",
              "      <td>2014</td>\n",
              "    </tr>\n",
              "    <tr>\n",
              "      <th>27</th>\n",
              "      <td>A26QL1FBQO9C0E</td>\n",
              "      <td>1304351475</td>\n",
              "      <td>5.0</td>\n",
              "      <td>1392076800</td>\n",
              "      <td>2014-02-11</td>\n",
              "      <td>11</td>\n",
              "      <td>2</td>\n",
              "      <td>2014</td>\n",
              "    </tr>\n",
              "    <tr>\n",
              "      <th>28</th>\n",
              "      <td>A19KEEVZYO1KO6</td>\n",
              "      <td>1304351475</td>\n",
              "      <td>4.0</td>\n",
              "      <td>1388707200</td>\n",
              "      <td>2014-01-03</td>\n",
              "      <td>3</td>\n",
              "      <td>1</td>\n",
              "      <td>2014</td>\n",
              "    </tr>\n",
              "    <tr>\n",
              "      <th>29</th>\n",
              "      <td>A1F6HRR58TQ2R0</td>\n",
              "      <td>1304351475</td>\n",
              "      <td>5.0</td>\n",
              "      <td>1394928000</td>\n",
              "      <td>2014-03-16</td>\n",
              "      <td>16</td>\n",
              "      <td>3</td>\n",
              "      <td>2014</td>\n",
              "    </tr>\n",
              "    <tr>\n",
              "      <th>30</th>\n",
              "      <td>AVQP6PO1NK0IJ</td>\n",
              "      <td>1304351475</td>\n",
              "      <td>1.0</td>\n",
              "      <td>1389657600</td>\n",
              "      <td>2014-01-14</td>\n",
              "      <td>14</td>\n",
              "      <td>1</td>\n",
              "      <td>2014</td>\n",
              "    </tr>\n",
              "    <tr>\n",
              "      <th>...</th>\n",
              "      <td>...</td>\n",
              "      <td>...</td>\n",
              "      <td>...</td>\n",
              "      <td>...</td>\n",
              "      <td>...</td>\n",
              "      <td>...</td>\n",
              "      <td>...</td>\n",
              "      <td>...</td>\n",
              "    </tr>\n",
              "    <tr>\n",
              "      <th>2023060</th>\n",
              "      <td>A3EN0JCMEML724</td>\n",
              "      <td>B00LNOKBYW</td>\n",
              "      <td>5.0</td>\n",
              "      <td>1405641600</td>\n",
              "      <td>2014-07-18</td>\n",
              "      <td>18</td>\n",
              "      <td>7</td>\n",
              "      <td>2014</td>\n",
              "    </tr>\n",
              "    <tr>\n",
              "      <th>2023061</th>\n",
              "      <td>A1RYQPQ01T5D5R</td>\n",
              "      <td>B00LNOKBYW</td>\n",
              "      <td>5.0</td>\n",
              "      <td>1406073600</td>\n",
              "      <td>2014-07-23</td>\n",
              "      <td>23</td>\n",
              "      <td>7</td>\n",
              "      <td>2014</td>\n",
              "    </tr>\n",
              "    <tr>\n",
              "      <th>2023062</th>\n",
              "      <td>A3MQDRRGC9070R</td>\n",
              "      <td>B00LNOKBYW</td>\n",
              "      <td>5.0</td>\n",
              "      <td>1405987200</td>\n",
              "      <td>2014-07-22</td>\n",
              "      <td>22</td>\n",
              "      <td>7</td>\n",
              "      <td>2014</td>\n",
              "    </tr>\n",
              "    <tr>\n",
              "      <th>2023063</th>\n",
              "      <td>A2LB743IV4NS2W</td>\n",
              "      <td>B00LNOKBYW</td>\n",
              "      <td>5.0</td>\n",
              "      <td>1405555200</td>\n",
              "      <td>2014-07-17</td>\n",
              "      <td>17</td>\n",
              "      <td>7</td>\n",
              "      <td>2014</td>\n",
              "    </tr>\n",
              "    <tr>\n",
              "      <th>2023064</th>\n",
              "      <td>A1YSYUGR6XRMIW</td>\n",
              "      <td>B00LNOKBYW</td>\n",
              "      <td>5.0</td>\n",
              "      <td>1405382400</td>\n",
              "      <td>2014-07-15</td>\n",
              "      <td>15</td>\n",
              "      <td>7</td>\n",
              "      <td>2014</td>\n",
              "    </tr>\n",
              "  </tbody>\n",
              "</table>\n",
              "<p>1514617 rows × 8 columns</p>\n",
              "</div>"
            ],
            "text/plain": [
              "                 UserId   ProductId  Rating  ...  day month  year\n",
              "26       A1RXI3A1E99112  1304351475     5.0  ...   14     7  2014\n",
              "27       A26QL1FBQO9C0E  1304351475     5.0  ...   11     2  2014\n",
              "28       A19KEEVZYO1KO6  1304351475     4.0  ...    3     1  2014\n",
              "29       A1F6HRR58TQ2R0  1304351475     5.0  ...   16     3  2014\n",
              "30        AVQP6PO1NK0IJ  1304351475     1.0  ...   14     1  2014\n",
              "...                 ...         ...     ...  ...  ...   ...   ...\n",
              "2023060  A3EN0JCMEML724  B00LNOKBYW     5.0  ...   18     7  2014\n",
              "2023061  A1RYQPQ01T5D5R  B00LNOKBYW     5.0  ...   23     7  2014\n",
              "2023062  A3MQDRRGC9070R  B00LNOKBYW     5.0  ...   22     7  2014\n",
              "2023063  A2LB743IV4NS2W  B00LNOKBYW     5.0  ...   17     7  2014\n",
              "2023064  A1YSYUGR6XRMIW  B00LNOKBYW     5.0  ...   15     7  2014\n",
              "\n",
              "[1514617 rows x 8 columns]"
            ]
          },
          "metadata": {
            "tags": []
          },
          "execution_count": 39
        }
      ]
    },
    {
      "cell_type": "code",
      "metadata": {
        "id": "CB47xM3qo4sn"
      },
      "source": [
        "top_rating_prod.sort_values(by='Rating',ascending=False,inplace=True)"
      ],
      "execution_count": null,
      "outputs": []
    },
    {
      "cell_type": "code",
      "metadata": {
        "colab": {
          "base_uri": "https://localhost:8080/",
          "height": 202
        },
        "id": "qBDI_HeRoXxr",
        "outputId": "94dc6f82-3a67-48c9-9547-8d2b8035c415"
      },
      "source": [
        "top_rating_prod = top_rating_prod[['UserId','ProductId','Rating']]\n",
        "top_rating_prod.head()"
      ],
      "execution_count": null,
      "outputs": [
        {
          "output_type": "execute_result",
          "data": {
            "text/html": [
              "<div>\n",
              "<style scoped>\n",
              "    .dataframe tbody tr th:only-of-type {\n",
              "        vertical-align: middle;\n",
              "    }\n",
              "\n",
              "    .dataframe tbody tr th {\n",
              "        vertical-align: top;\n",
              "    }\n",
              "\n",
              "    .dataframe thead th {\n",
              "        text-align: right;\n",
              "    }\n",
              "</style>\n",
              "<table border=\"1\" class=\"dataframe\">\n",
              "  <thead>\n",
              "    <tr style=\"text-align: right;\">\n",
              "      <th></th>\n",
              "      <th>UserId</th>\n",
              "      <th>ProductId</th>\n",
              "      <th>Rating</th>\n",
              "    </tr>\n",
              "  </thead>\n",
              "  <tbody>\n",
              "    <tr>\n",
              "      <th>26</th>\n",
              "      <td>A1RXI3A1E99112</td>\n",
              "      <td>1304351475</td>\n",
              "      <td>5.0</td>\n",
              "    </tr>\n",
              "    <tr>\n",
              "      <th>1096911</th>\n",
              "      <td>A1K6K1P4L1FE8M</td>\n",
              "      <td>B003TBPG5G</td>\n",
              "      <td>5.0</td>\n",
              "    </tr>\n",
              "    <tr>\n",
              "      <th>1096968</th>\n",
              "      <td>A3SOUMZ4H9JK80</td>\n",
              "      <td>B003TDZFVE</td>\n",
              "      <td>5.0</td>\n",
              "    </tr>\n",
              "    <tr>\n",
              "      <th>1096967</th>\n",
              "      <td>AN5K6D8W8RGSG</td>\n",
              "      <td>B003TDZFVE</td>\n",
              "      <td>5.0</td>\n",
              "    </tr>\n",
              "    <tr>\n",
              "      <th>1096963</th>\n",
              "      <td>A2X9RBK2ZP2M3Z</td>\n",
              "      <td>B003TDZFVE</td>\n",
              "      <td>5.0</td>\n",
              "    </tr>\n",
              "  </tbody>\n",
              "</table>\n",
              "</div>"
            ],
            "text/plain": [
              "                 UserId   ProductId  Rating\n",
              "26       A1RXI3A1E99112  1304351475     5.0\n",
              "1096911  A1K6K1P4L1FE8M  B003TBPG5G     5.0\n",
              "1096968  A3SOUMZ4H9JK80  B003TDZFVE     5.0\n",
              "1096967   AN5K6D8W8RGSG  B003TDZFVE     5.0\n",
              "1096963  A2X9RBK2ZP2M3Z  B003TDZFVE     5.0"
            ]
          },
          "metadata": {
            "tags": []
          },
          "execution_count": 41
        }
      ]
    },
    {
      "cell_type": "code",
      "metadata": {
        "id": "MMrdaGTRocBk"
      },
      "source": [
        "#Split the data randomly into train and test dataset\n",
        "from sklearn.model_selection import train_test_split\n",
        "\n",
        "train_data,test_data = train_test_split(top_rating_prod,test_size=0.2,random_state=10)"
      ],
      "execution_count": null,
      "outputs": []
    },
    {
      "cell_type": "code",
      "metadata": {
        "colab": {
          "base_uri": "https://localhost:8080/",
          "height": 202
        },
        "id": "KVr4SvqSsc8c",
        "outputId": "779592e9-342f-4e49-ae8e-102cc8f3c825"
      },
      "source": [
        "train_data.head()"
      ],
      "execution_count": null,
      "outputs": [
        {
          "output_type": "execute_result",
          "data": {
            "text/html": [
              "<div>\n",
              "<style scoped>\n",
              "    .dataframe tbody tr th:only-of-type {\n",
              "        vertical-align: middle;\n",
              "    }\n",
              "\n",
              "    .dataframe tbody tr th {\n",
              "        vertical-align: top;\n",
              "    }\n",
              "\n",
              "    .dataframe thead th {\n",
              "        text-align: right;\n",
              "    }\n",
              "</style>\n",
              "<table border=\"1\" class=\"dataframe\">\n",
              "  <thead>\n",
              "    <tr style=\"text-align: right;\">\n",
              "      <th></th>\n",
              "      <th>UserId</th>\n",
              "      <th>ProductId</th>\n",
              "      <th>Rating</th>\n",
              "    </tr>\n",
              "  </thead>\n",
              "  <tbody>\n",
              "    <tr>\n",
              "      <th>1570538</th>\n",
              "      <td>AXDENGAX9KXGB</td>\n",
              "      <td>B007C7IVE6</td>\n",
              "      <td>3.0</td>\n",
              "    </tr>\n",
              "    <tr>\n",
              "      <th>364883</th>\n",
              "      <td>A15HJ8E4NQX8FN</td>\n",
              "      <td>B000P0IDYU</td>\n",
              "      <td>4.0</td>\n",
              "    </tr>\n",
              "    <tr>\n",
              "      <th>77105</th>\n",
              "      <td>A1NUIC8FYVAC22</td>\n",
              "      <td>B00021DTEG</td>\n",
              "      <td>5.0</td>\n",
              "    </tr>\n",
              "    <tr>\n",
              "      <th>494779</th>\n",
              "      <td>A3I0CZ6OJ4DUWM</td>\n",
              "      <td>B000ZMBSPE</td>\n",
              "      <td>5.0</td>\n",
              "    </tr>\n",
              "    <tr>\n",
              "      <th>806756</th>\n",
              "      <td>A14PYXBHMV8PMJ</td>\n",
              "      <td>B0020MMFZ4</td>\n",
              "      <td>5.0</td>\n",
              "    </tr>\n",
              "  </tbody>\n",
              "</table>\n",
              "</div>"
            ],
            "text/plain": [
              "                 UserId   ProductId  Rating\n",
              "1570538   AXDENGAX9KXGB  B007C7IVE6     3.0\n",
              "364883   A15HJ8E4NQX8FN  B000P0IDYU     4.0\n",
              "77105    A1NUIC8FYVAC22  B00021DTEG     5.0\n",
              "494779   A3I0CZ6OJ4DUWM  B000ZMBSPE     5.0\n",
              "806756   A14PYXBHMV8PMJ  B0020MMFZ4     5.0"
            ]
          },
          "metadata": {
            "tags": []
          },
          "execution_count": 43
        }
      ]
    },
    {
      "cell_type": "code",
      "metadata": {
        "colab": {
          "base_uri": "https://localhost:8080/",
          "height": 202
        },
        "id": "Dk70DY0DsekS",
        "outputId": "095479e4-63cf-429f-e1ea-29ca1ff9477b"
      },
      "source": [
        "test_data.head()"
      ],
      "execution_count": null,
      "outputs": [
        {
          "output_type": "execute_result",
          "data": {
            "text/html": [
              "<div>\n",
              "<style scoped>\n",
              "    .dataframe tbody tr th:only-of-type {\n",
              "        vertical-align: middle;\n",
              "    }\n",
              "\n",
              "    .dataframe tbody tr th {\n",
              "        vertical-align: top;\n",
              "    }\n",
              "\n",
              "    .dataframe thead th {\n",
              "        text-align: right;\n",
              "    }\n",
              "</style>\n",
              "<table border=\"1\" class=\"dataframe\">\n",
              "  <thead>\n",
              "    <tr style=\"text-align: right;\">\n",
              "      <th></th>\n",
              "      <th>UserId</th>\n",
              "      <th>ProductId</th>\n",
              "      <th>Rating</th>\n",
              "    </tr>\n",
              "  </thead>\n",
              "  <tbody>\n",
              "    <tr>\n",
              "      <th>1563012</th>\n",
              "      <td>AXRMB1697C1MY</td>\n",
              "      <td>B0078DXKLI</td>\n",
              "      <td>5.0</td>\n",
              "    </tr>\n",
              "    <tr>\n",
              "      <th>875292</th>\n",
              "      <td>ABFUIZW6PAJNK</td>\n",
              "      <td>B002K8W1UC</td>\n",
              "      <td>5.0</td>\n",
              "    </tr>\n",
              "    <tr>\n",
              "      <th>2493</th>\n",
              "      <td>APHQQF9BJP75U</td>\n",
              "      <td>B00004TMFE</td>\n",
              "      <td>3.0</td>\n",
              "    </tr>\n",
              "    <tr>\n",
              "      <th>149250</th>\n",
              "      <td>AA2AK65VS2VYD</td>\n",
              "      <td>B0009OAHJG</td>\n",
              "      <td>5.0</td>\n",
              "    </tr>\n",
              "    <tr>\n",
              "      <th>1456740</th>\n",
              "      <td>A2CFU25A4MQ4Z3</td>\n",
              "      <td>B005WQB6G4</td>\n",
              "      <td>2.0</td>\n",
              "    </tr>\n",
              "  </tbody>\n",
              "</table>\n",
              "</div>"
            ],
            "text/plain": [
              "                 UserId   ProductId  Rating\n",
              "1563012   AXRMB1697C1MY  B0078DXKLI     5.0\n",
              "875292    ABFUIZW6PAJNK  B002K8W1UC     5.0\n",
              "2493      APHQQF9BJP75U  B00004TMFE     3.0\n",
              "149250    AA2AK65VS2VYD  B0009OAHJG     5.0\n",
              "1456740  A2CFU25A4MQ4Z3  B005WQB6G4     2.0"
            ]
          },
          "metadata": {
            "tags": []
          },
          "execution_count": 44
        }
      ]
    },
    {
      "cell_type": "markdown",
      "metadata": {
        "id": "0lrvJIXB0Y1z"
      },
      "source": [
        "## Building Popularity Recomender model"
      ]
    },
    {
      "cell_type": "code",
      "metadata": {
        "id": "puxbu55Osf5H"
      },
      "source": [
        "#Building the recommendations based on the average of all user ratings for each product.\n",
        "recomendation_train_data = train_data.groupby('ProductId').mean().reset_index()"
      ],
      "execution_count": null,
      "outputs": []
    },
    {
      "cell_type": "code",
      "metadata": {
        "colab": {
          "base_uri": "https://localhost:8080/",
          "height": 204
        },
        "id": "4tYZoyB50zZI",
        "outputId": "6061d2c4-bb7f-4ff3-ed6c-f3e99a69ff5d"
      },
      "source": [
        "recomendation_train_data.head()"
      ],
      "execution_count": null,
      "outputs": [
        {
          "output_type": "execute_result",
          "data": {
            "text/html": [
              "<div>\n",
              "<style scoped>\n",
              "    .dataframe tbody tr th:only-of-type {\n",
              "        vertical-align: middle;\n",
              "    }\n",
              "\n",
              "    .dataframe tbody tr th {\n",
              "        vertical-align: top;\n",
              "    }\n",
              "\n",
              "    .dataframe thead th {\n",
              "        text-align: right;\n",
              "    }\n",
              "</style>\n",
              "<table border=\"1\" class=\"dataframe\">\n",
              "  <thead>\n",
              "    <tr style=\"text-align: right;\">\n",
              "      <th></th>\n",
              "      <th>ProductId</th>\n",
              "      <th>Rating</th>\n",
              "    </tr>\n",
              "  </thead>\n",
              "  <tbody>\n",
              "    <tr>\n",
              "      <th>0</th>\n",
              "      <td>1304351475</td>\n",
              "      <td>3.083333</td>\n",
              "    </tr>\n",
              "    <tr>\n",
              "      <th>1</th>\n",
              "      <td>1403790965</td>\n",
              "      <td>4.888889</td>\n",
              "    </tr>\n",
              "    <tr>\n",
              "      <th>2</th>\n",
              "      <td>3227001381</td>\n",
              "      <td>4.473684</td>\n",
              "    </tr>\n",
              "    <tr>\n",
              "      <th>3</th>\n",
              "      <td>535795531X</td>\n",
              "      <td>4.800000</td>\n",
              "    </tr>\n",
              "    <tr>\n",
              "      <th>4</th>\n",
              "      <td>5357955948</td>\n",
              "      <td>4.500000</td>\n",
              "    </tr>\n",
              "  </tbody>\n",
              "</table>\n",
              "</div>"
            ],
            "text/plain": [
              "    ProductId    Rating\n",
              "0  1304351475  3.083333\n",
              "1  1403790965  4.888889\n",
              "2  3227001381  4.473684\n",
              "3  535795531X  4.800000\n",
              "4  5357955948  4.500000"
            ]
          },
          "metadata": {
            "tags": []
          },
          "execution_count": 73
        }
      ]
    },
    {
      "cell_type": "code",
      "metadata": {
        "id": "FIcpTYRn00fZ"
      },
      "source": [
        "recomendation_train_data_sort = recomendation_train_data.sort_values(['Rating','ProductId'],ascending=False)"
      ],
      "execution_count": null,
      "outputs": []
    },
    {
      "cell_type": "code",
      "metadata": {
        "colab": {
          "base_uri": "https://localhost:8080/",
          "height": 204
        },
        "id": "gGNwZSea1BNm",
        "outputId": "9404add4-6647-4de0-d69c-955326807bac"
      },
      "source": [
        "recomendation_train_data_sort.head()"
      ],
      "execution_count": null,
      "outputs": [
        {
          "output_type": "execute_result",
          "data": {
            "text/html": [
              "<div>\n",
              "<style scoped>\n",
              "    .dataframe tbody tr th:only-of-type {\n",
              "        vertical-align: middle;\n",
              "    }\n",
              "\n",
              "    .dataframe tbody tr th {\n",
              "        vertical-align: top;\n",
              "    }\n",
              "\n",
              "    .dataframe thead th {\n",
              "        text-align: right;\n",
              "    }\n",
              "</style>\n",
              "<table border=\"1\" class=\"dataframe\">\n",
              "  <thead>\n",
              "    <tr style=\"text-align: right;\">\n",
              "      <th></th>\n",
              "      <th>ProductId</th>\n",
              "      <th>Rating</th>\n",
              "    </tr>\n",
              "  </thead>\n",
              "  <tbody>\n",
              "    <tr>\n",
              "      <th>36937</th>\n",
              "      <td>B00LNOKBYW</td>\n",
              "      <td>5.0</td>\n",
              "    </tr>\n",
              "    <tr>\n",
              "      <th>36935</th>\n",
              "      <td>B00LJEACWC</td>\n",
              "      <td>5.0</td>\n",
              "    </tr>\n",
              "    <tr>\n",
              "      <th>36933</th>\n",
              "      <td>B00LCEROA2</td>\n",
              "      <td>5.0</td>\n",
              "    </tr>\n",
              "    <tr>\n",
              "      <th>36927</th>\n",
              "      <td>B00L5KTZ0K</td>\n",
              "      <td>5.0</td>\n",
              "    </tr>\n",
              "    <tr>\n",
              "      <th>36924</th>\n",
              "      <td>B00L5BXG36</td>\n",
              "      <td>5.0</td>\n",
              "    </tr>\n",
              "  </tbody>\n",
              "</table>\n",
              "</div>"
            ],
            "text/plain": [
              "        ProductId  Rating\n",
              "36937  B00LNOKBYW     5.0\n",
              "36935  B00LJEACWC     5.0\n",
              "36933  B00LCEROA2     5.0\n",
              "36927  B00L5KTZ0K     5.0\n",
              "36924  B00L5BXG36     5.0"
            ]
          },
          "metadata": {
            "tags": []
          },
          "execution_count": 77
        }
      ]
    },
    {
      "cell_type": "code",
      "metadata": {
        "id": "Dl0v_VA33WfT"
      },
      "source": [
        "ratings_mean_count = pd.DataFrame(train_data.groupby('ProductId')['Rating'].mean())"
      ],
      "execution_count": null,
      "outputs": []
    },
    {
      "cell_type": "code",
      "metadata": {
        "colab": {
          "base_uri": "https://localhost:8080/",
          "height": 450
        },
        "id": "Hatd97sS4M-8",
        "outputId": "69965f82-c813-4b63-8940-9c36e4a4c53b"
      },
      "source": [
        "ratings_mean_count"
      ],
      "execution_count": null,
      "outputs": [
        {
          "output_type": "execute_result",
          "data": {
            "text/html": [
              "<div>\n",
              "<style scoped>\n",
              "    .dataframe tbody tr th:only-of-type {\n",
              "        vertical-align: middle;\n",
              "    }\n",
              "\n",
              "    .dataframe tbody tr th {\n",
              "        vertical-align: top;\n",
              "    }\n",
              "\n",
              "    .dataframe thead th {\n",
              "        text-align: right;\n",
              "    }\n",
              "</style>\n",
              "<table border=\"1\" class=\"dataframe\">\n",
              "  <thead>\n",
              "    <tr style=\"text-align: right;\">\n",
              "      <th></th>\n",
              "      <th>Rating</th>\n",
              "    </tr>\n",
              "    <tr>\n",
              "      <th>ProductId</th>\n",
              "      <th></th>\n",
              "    </tr>\n",
              "  </thead>\n",
              "  <tbody>\n",
              "    <tr>\n",
              "      <th>1304351475</th>\n",
              "      <td>3.083333</td>\n",
              "    </tr>\n",
              "    <tr>\n",
              "      <th>1403790965</th>\n",
              "      <td>4.888889</td>\n",
              "    </tr>\n",
              "    <tr>\n",
              "      <th>3227001381</th>\n",
              "      <td>4.473684</td>\n",
              "    </tr>\n",
              "    <tr>\n",
              "      <th>535795531X</th>\n",
              "      <td>4.800000</td>\n",
              "    </tr>\n",
              "    <tr>\n",
              "      <th>5357955948</th>\n",
              "      <td>4.500000</td>\n",
              "    </tr>\n",
              "    <tr>\n",
              "      <th>...</th>\n",
              "      <td>...</td>\n",
              "    </tr>\n",
              "    <tr>\n",
              "      <th>B00LCEROA2</th>\n",
              "      <td>5.000000</td>\n",
              "    </tr>\n",
              "    <tr>\n",
              "      <th>B00LG63DOM</th>\n",
              "      <td>4.900000</td>\n",
              "    </tr>\n",
              "    <tr>\n",
              "      <th>B00LJEACWC</th>\n",
              "      <td>5.000000</td>\n",
              "    </tr>\n",
              "    <tr>\n",
              "      <th>B00LLPT4HI</th>\n",
              "      <td>4.909091</td>\n",
              "    </tr>\n",
              "    <tr>\n",
              "      <th>B00LNOKBYW</th>\n",
              "      <td>5.000000</td>\n",
              "    </tr>\n",
              "  </tbody>\n",
              "</table>\n",
              "<p>36938 rows × 1 columns</p>\n",
              "</div>"
            ],
            "text/plain": [
              "              Rating\n",
              "ProductId           \n",
              "1304351475  3.083333\n",
              "1403790965  4.888889\n",
              "3227001381  4.473684\n",
              "535795531X  4.800000\n",
              "5357955948  4.500000\n",
              "...              ...\n",
              "B00LCEROA2  5.000000\n",
              "B00LG63DOM  4.900000\n",
              "B00LJEACWC  5.000000\n",
              "B00LLPT4HI  4.909091\n",
              "B00LNOKBYW  5.000000\n",
              "\n",
              "[36938 rows x 1 columns]"
            ]
          },
          "metadata": {
            "tags": []
          },
          "execution_count": 79
        }
      ]
    },
    {
      "cell_type": "code",
      "metadata": {
        "id": "7ClVPNGS4O1Z"
      },
      "source": [
        "ratings_mean_count['rating_counts'] = pd.DataFrame(train_data.groupby('ProductId')['Rating'].count())"
      ],
      "execution_count": null,
      "outputs": []
    },
    {
      "cell_type": "code",
      "metadata": {
        "colab": {
          "base_uri": "https://localhost:8080/",
          "height": 235
        },
        "id": "520rdINVBnGo",
        "outputId": "b5c046f2-3ad1-46c9-d111-77e153872b1d"
      },
      "source": [
        "ratings_mean_count.head()"
      ],
      "execution_count": null,
      "outputs": [
        {
          "output_type": "execute_result",
          "data": {
            "text/html": [
              "<div>\n",
              "<style scoped>\n",
              "    .dataframe tbody tr th:only-of-type {\n",
              "        vertical-align: middle;\n",
              "    }\n",
              "\n",
              "    .dataframe tbody tr th {\n",
              "        vertical-align: top;\n",
              "    }\n",
              "\n",
              "    .dataframe thead th {\n",
              "        text-align: right;\n",
              "    }\n",
              "</style>\n",
              "<table border=\"1\" class=\"dataframe\">\n",
              "  <thead>\n",
              "    <tr style=\"text-align: right;\">\n",
              "      <th></th>\n",
              "      <th>Rating</th>\n",
              "      <th>rating_counts</th>\n",
              "    </tr>\n",
              "    <tr>\n",
              "      <th>ProductId</th>\n",
              "      <th></th>\n",
              "      <th></th>\n",
              "    </tr>\n",
              "  </thead>\n",
              "  <tbody>\n",
              "    <tr>\n",
              "      <th>1304351475</th>\n",
              "      <td>3.083333</td>\n",
              "      <td>12</td>\n",
              "    </tr>\n",
              "    <tr>\n",
              "      <th>1403790965</th>\n",
              "      <td>4.888889</td>\n",
              "      <td>9</td>\n",
              "    </tr>\n",
              "    <tr>\n",
              "      <th>3227001381</th>\n",
              "      <td>4.473684</td>\n",
              "      <td>19</td>\n",
              "    </tr>\n",
              "    <tr>\n",
              "      <th>535795531X</th>\n",
              "      <td>4.800000</td>\n",
              "      <td>10</td>\n",
              "    </tr>\n",
              "    <tr>\n",
              "      <th>5357955948</th>\n",
              "      <td>4.500000</td>\n",
              "      <td>8</td>\n",
              "    </tr>\n",
              "  </tbody>\n",
              "</table>\n",
              "</div>"
            ],
            "text/plain": [
              "              Rating  rating_counts\n",
              "ProductId                          \n",
              "1304351475  3.083333             12\n",
              "1403790965  4.888889              9\n",
              "3227001381  4.473684             19\n",
              "535795531X  4.800000             10\n",
              "5357955948  4.500000              8"
            ]
          },
          "metadata": {
            "tags": []
          },
          "execution_count": 82
        }
      ]
    },
    {
      "cell_type": "code",
      "metadata": {
        "id": "SNp6eb7WBsg0"
      },
      "source": [
        "pred_df = test_data[['UserId', 'ProductId', 'Rating']]"
      ],
      "execution_count": null,
      "outputs": []
    },
    {
      "cell_type": "code",
      "metadata": {
        "id": "euGZgellCBx8"
      },
      "source": [
        "pred_df.rename(columns = {'Rating' : 'true_ratings'}, inplace=True)"
      ],
      "execution_count": null,
      "outputs": []
    },
    {
      "cell_type": "code",
      "metadata": {
        "id": "HKVV6YTuCFrA"
      },
      "source": [
        "pred_df = pred_df.merge(recomendation_train_data_sort, left_on='ProductId', right_on = 'ProductId')"
      ],
      "execution_count": null,
      "outputs": []
    },
    {
      "cell_type": "code",
      "metadata": {
        "colab": {
          "base_uri": "https://localhost:8080/",
          "height": 204
        },
        "id": "wNZWTrkPCVJb",
        "outputId": "62f71c6a-d8ae-477a-b67b-a576bbbc89d2"
      },
      "source": [
        "pred_df.head()"
      ],
      "execution_count": null,
      "outputs": [
        {
          "output_type": "execute_result",
          "data": {
            "text/html": [
              "<div>\n",
              "<style scoped>\n",
              "    .dataframe tbody tr th:only-of-type {\n",
              "        vertical-align: middle;\n",
              "    }\n",
              "\n",
              "    .dataframe tbody tr th {\n",
              "        vertical-align: top;\n",
              "    }\n",
              "\n",
              "    .dataframe thead th {\n",
              "        text-align: right;\n",
              "    }\n",
              "</style>\n",
              "<table border=\"1\" class=\"dataframe\">\n",
              "  <thead>\n",
              "    <tr style=\"text-align: right;\">\n",
              "      <th></th>\n",
              "      <th>UserId</th>\n",
              "      <th>ProductId</th>\n",
              "      <th>true_ratings</th>\n",
              "      <th>Rating</th>\n",
              "    </tr>\n",
              "  </thead>\n",
              "  <tbody>\n",
              "    <tr>\n",
              "      <th>0</th>\n",
              "      <td>AXRMB1697C1MY</td>\n",
              "      <td>B0078DXKLI</td>\n",
              "      <td>5.0</td>\n",
              "      <td>3.562500</td>\n",
              "    </tr>\n",
              "    <tr>\n",
              "      <th>1</th>\n",
              "      <td>A43SU2MFB7LX8</td>\n",
              "      <td>B0078DXKLI</td>\n",
              "      <td>4.0</td>\n",
              "      <td>3.562500</td>\n",
              "    </tr>\n",
              "    <tr>\n",
              "      <th>2</th>\n",
              "      <td>ABFUIZW6PAJNK</td>\n",
              "      <td>B002K8W1UC</td>\n",
              "      <td>5.0</td>\n",
              "      <td>4.113636</td>\n",
              "    </tr>\n",
              "    <tr>\n",
              "      <th>3</th>\n",
              "      <td>A357E2DE2FBLS9</td>\n",
              "      <td>B002K8W1UC</td>\n",
              "      <td>5.0</td>\n",
              "      <td>4.113636</td>\n",
              "    </tr>\n",
              "    <tr>\n",
              "      <th>4</th>\n",
              "      <td>A3MQEP2Z1VVQB9</td>\n",
              "      <td>B002K8W1UC</td>\n",
              "      <td>3.0</td>\n",
              "      <td>4.113636</td>\n",
              "    </tr>\n",
              "  </tbody>\n",
              "</table>\n",
              "</div>"
            ],
            "text/plain": [
              "           UserId   ProductId  true_ratings    Rating\n",
              "0   AXRMB1697C1MY  B0078DXKLI           5.0  3.562500\n",
              "1   A43SU2MFB7LX8  B0078DXKLI           4.0  3.562500\n",
              "2   ABFUIZW6PAJNK  B002K8W1UC           5.0  4.113636\n",
              "3  A357E2DE2FBLS9  B002K8W1UC           5.0  4.113636\n",
              "4  A3MQEP2Z1VVQB9  B002K8W1UC           3.0  4.113636"
            ]
          },
          "metadata": {
            "tags": []
          },
          "execution_count": 87
        }
      ]
    },
    {
      "cell_type": "code",
      "metadata": {
        "id": "9wDYhxBHChjl"
      },
      "source": [
        "pred_df.rename(columns = {'Rating' : 'predicted_ratings'}, inplace = True)"
      ],
      "execution_count": null,
      "outputs": []
    },
    {
      "cell_type": "code",
      "metadata": {
        "colab": {
          "base_uri": "https://localhost:8080/",
          "height": 204
        },
        "id": "ll6PbRsUCoql",
        "outputId": "6ec2ae29-b2fd-4a3e-848f-45320072e18a"
      },
      "source": [
        "pred_df.head()"
      ],
      "execution_count": null,
      "outputs": [
        {
          "output_type": "execute_result",
          "data": {
            "text/html": [
              "<div>\n",
              "<style scoped>\n",
              "    .dataframe tbody tr th:only-of-type {\n",
              "        vertical-align: middle;\n",
              "    }\n",
              "\n",
              "    .dataframe tbody tr th {\n",
              "        vertical-align: top;\n",
              "    }\n",
              "\n",
              "    .dataframe thead th {\n",
              "        text-align: right;\n",
              "    }\n",
              "</style>\n",
              "<table border=\"1\" class=\"dataframe\">\n",
              "  <thead>\n",
              "    <tr style=\"text-align: right;\">\n",
              "      <th></th>\n",
              "      <th>UserId</th>\n",
              "      <th>ProductId</th>\n",
              "      <th>true_ratings</th>\n",
              "      <th>predicted_ratings</th>\n",
              "    </tr>\n",
              "  </thead>\n",
              "  <tbody>\n",
              "    <tr>\n",
              "      <th>0</th>\n",
              "      <td>AXRMB1697C1MY</td>\n",
              "      <td>B0078DXKLI</td>\n",
              "      <td>5.0</td>\n",
              "      <td>3.562500</td>\n",
              "    </tr>\n",
              "    <tr>\n",
              "      <th>1</th>\n",
              "      <td>A43SU2MFB7LX8</td>\n",
              "      <td>B0078DXKLI</td>\n",
              "      <td>4.0</td>\n",
              "      <td>3.562500</td>\n",
              "    </tr>\n",
              "    <tr>\n",
              "      <th>2</th>\n",
              "      <td>ABFUIZW6PAJNK</td>\n",
              "      <td>B002K8W1UC</td>\n",
              "      <td>5.0</td>\n",
              "      <td>4.113636</td>\n",
              "    </tr>\n",
              "    <tr>\n",
              "      <th>3</th>\n",
              "      <td>A357E2DE2FBLS9</td>\n",
              "      <td>B002K8W1UC</td>\n",
              "      <td>5.0</td>\n",
              "      <td>4.113636</td>\n",
              "    </tr>\n",
              "    <tr>\n",
              "      <th>4</th>\n",
              "      <td>A3MQEP2Z1VVQB9</td>\n",
              "      <td>B002K8W1UC</td>\n",
              "      <td>3.0</td>\n",
              "      <td>4.113636</td>\n",
              "    </tr>\n",
              "  </tbody>\n",
              "</table>\n",
              "</div>"
            ],
            "text/plain": [
              "           UserId   ProductId  true_ratings  predicted_ratings\n",
              "0   AXRMB1697C1MY  B0078DXKLI           5.0           3.562500\n",
              "1   A43SU2MFB7LX8  B0078DXKLI           4.0           3.562500\n",
              "2   ABFUIZW6PAJNK  B002K8W1UC           5.0           4.113636\n",
              "3  A357E2DE2FBLS9  B002K8W1UC           5.0           4.113636\n",
              "4  A3MQEP2Z1VVQB9  B002K8W1UC           3.0           4.113636"
            ]
          },
          "metadata": {
            "tags": []
          },
          "execution_count": 89
        }
      ]
    },
    {
      "cell_type": "code",
      "metadata": {
        "colab": {
          "base_uri": "https://localhost:8080/"
        },
        "id": "ANvoOvxZCrc2",
        "outputId": "ccdeb8db-ba68-4c10-f7d2-4015ae47aae6"
      },
      "source": [
        "import sklearn.metrics as metric\n",
        "from math import sqrt\n",
        "MSE = metric.mean_squared_error(pred_df['true_ratings'], pred_df['predicted_ratings'])\n",
        "print('The RMSE value for Popularity Recommender model is', sqrt(MSE))"
      ],
      "execution_count": null,
      "outputs": [
        {
          "output_type": "stream",
          "text": [
            "The RMSE value for Popularity Recommender model is 1.2521752276549172\n"
          ],
          "name": "stdout"
        }
      ]
    },
    {
      "cell_type": "markdown",
      "metadata": {
        "id": "VFG63iYAD3oD"
      },
      "source": [
        "# Collaborative Filtering Model"
      ]
    },
    {
      "cell_type": "code",
      "metadata": {
        "colab": {
          "base_uri": "https://localhost:8080/"
        },
        "id": "CtwZ_07fEGYW",
        "outputId": "c7761630-a25c-4ec7-95bf-bac81a96f43f"
      },
      "source": [
        "! pip install surprise"
      ],
      "execution_count": null,
      "outputs": [
        {
          "output_type": "stream",
          "text": [
            "Collecting surprise\n",
            "  Downloading https://files.pythonhosted.org/packages/61/de/e5cba8682201fcf9c3719a6fdda95693468ed061945493dea2dd37c5618b/surprise-0.1-py2.py3-none-any.whl\n",
            "Collecting scikit-surprise\n",
            "\u001b[?25l  Downloading https://files.pythonhosted.org/packages/97/37/5d334adaf5ddd65da99fc65f6507e0e4599d092ba048f4302fe8775619e8/scikit-surprise-1.1.1.tar.gz (11.8MB)\n",
            "\u001b[K     |████████████████████████████████| 11.8MB 26.6MB/s \n",
            "\u001b[?25hRequirement already satisfied: joblib>=0.11 in /usr/local/lib/python3.7/dist-packages (from scikit-surprise->surprise) (1.0.1)\n",
            "Requirement already satisfied: numpy>=1.11.2 in /usr/local/lib/python3.7/dist-packages (from scikit-surprise->surprise) (1.19.5)\n",
            "Requirement already satisfied: scipy>=1.0.0 in /usr/local/lib/python3.7/dist-packages (from scikit-surprise->surprise) (1.4.1)\n",
            "Requirement already satisfied: six>=1.10.0 in /usr/local/lib/python3.7/dist-packages (from scikit-surprise->surprise) (1.15.0)\n",
            "Building wheels for collected packages: scikit-surprise\n",
            "  Building wheel for scikit-surprise (setup.py) ... \u001b[?25l\u001b[?25hdone\n",
            "  Created wheel for scikit-surprise: filename=scikit_surprise-1.1.1-cp37-cp37m-linux_x86_64.whl size=1617613 sha256=eb35bb7a35e595c84476ae9fa2d5f23ef58442d0709eb4acf7885db754ccd6a7\n",
            "  Stored in directory: /root/.cache/pip/wheels/78/9c/3d/41b419c9d2aff5b6e2b4c0fc8d25c538202834058f9ed110d0\n",
            "Successfully built scikit-surprise\n",
            "Installing collected packages: scikit-surprise, surprise\n",
            "Successfully installed scikit-surprise-1.1.1 surprise-0.1\n"
          ],
          "name": "stdout"
        }
      ]
    },
    {
      "cell_type": "code",
      "metadata": {
        "id": "v3RlQQWaCxd1"
      },
      "source": [
        "import surprise\n",
        "from surprise import KNNWithMeans\n",
        "from surprise.model_selection import GridSearchCV\n",
        "from surprise import Dataset\n",
        "from surprise import accuracy\n",
        "from surprise import Reader\n",
        "from surprise.model_selection import train_test_split\n",
        "from surprise import KNNBasic, SVD, NormalPredictor, KNNBaseline,KNNWithMeans, KNNWithZScore, BaselineOnly, CoClustering, Reader, dataset, accuracy"
      ],
      "execution_count": null,
      "outputs": []
    },
    {
      "cell_type": "code",
      "metadata": {
        "id": "CjPE5fRSEEx-"
      },
      "source": [
        "reader = Reader(rating_scale=(0.5,5.0))"
      ],
      "execution_count": null,
      "outputs": []
    },
    {
      "cell_type": "markdown",
      "metadata": {
        "id": "onLbNfNIF6r2"
      },
      "source": [
        "###Converting Pandas Dataframe to Surpise format"
      ]
    },
    {
      "cell_type": "code",
      "metadata": {
        "id": "muNmO4j3Frvg"
      },
      "source": [
        "data = Dataset.load_from_df(topuser_rating_df[['UserId', 'ProductId', 'Rating']],reader)"
      ],
      "execution_count": null,
      "outputs": []
    },
    {
      "cell_type": "code",
      "metadata": {
        "id": "g_gC4QJLF5Cv"
      },
      "source": [
        "# Split data to train and test\n",
        "from surprise.model_selection import train_test_split\n",
        "trainset, testset = train_test_split(data, test_size=.3,random_state=0)"
      ],
      "execution_count": null,
      "outputs": []
    },
    {
      "cell_type": "markdown",
      "metadata": {
        "id": "fS1eJHfzGVrR"
      },
      "source": [
        "##Training the model"
      ]
    },
    {
      "cell_type": "code",
      "metadata": {
        "colab": {
          "base_uri": "https://localhost:8080/"
        },
        "id": "RWXyxfZyGMkX",
        "outputId": "1a9df202-bf7e-437f-bdc8-e7b30a643c0f"
      },
      "source": [
        "algo_user = KNNWithMeans(k=10, min_k=6, sim_options={'name': 'pearson_baseline', 'user_based': True})\n",
        "algo_user.fit(trainset)"
      ],
      "execution_count": null,
      "outputs": [
        {
          "output_type": "stream",
          "text": [
            "Estimating biases using als...\n",
            "Computing the pearson_baseline similarity matrix...\n",
            "Done computing similarity matrix.\n"
          ],
          "name": "stdout"
        },
        {
          "output_type": "execute_result",
          "data": {
            "text/plain": [
              "<surprise.prediction_algorithms.knns.KNNWithMeans at 0x7f0da98a0a90>"
            ]
          },
          "metadata": {
            "tags": []
          },
          "execution_count": 101
        }
      ]
    },
    {
      "cell_type": "markdown",
      "metadata": {
        "id": "f8jFB7jLGnXK"
      },
      "source": [
        "##SVD"
      ]
    },
    {
      "cell_type": "code",
      "metadata": {
        "colab": {
          "base_uri": "https://localhost:8080/"
        },
        "id": "Ph1gq6GaGRwL",
        "outputId": "e1adaef1-eff1-410c-833c-df6cc68312b0"
      },
      "source": [
        "svd_model = SVD(n_factors=50,reg_all=0.02)\n",
        "svd_model.fit(trainset)"
      ],
      "execution_count": null,
      "outputs": [
        {
          "output_type": "execute_result",
          "data": {
            "text/plain": [
              "<surprise.prediction_algorithms.matrix_factorization.SVD at 0x7f0da98a0710>"
            ]
          },
          "metadata": {
            "tags": []
          },
          "execution_count": 104
        }
      ]
    },
    {
      "cell_type": "markdown",
      "metadata": {
        "id": "LyJJnmSiHby5"
      },
      "source": [
        "###Evaluate both the models. ( Once the model is trained on the training data, it can be used to compute the error (like RMSE) on predictions made on the test data.) You can also use a different method to evaluate the models"
      ]
    },
    {
      "cell_type": "code",
      "metadata": {
        "colab": {
          "base_uri": "https://localhost:8080/"
        },
        "id": "BILOa2fUGrlJ",
        "outputId": "6a6d0e70-d6f2-4338-8f9e-8be1b7898b27"
      },
      "source": [
        "MSE = metric.mean_squared_error(pred_df['true_ratings'], pred_df['predicted_ratings'])\n",
        "print('The RMSE value for Popularity Recommender model is', sqrt(MSE))"
      ],
      "execution_count": null,
      "outputs": [
        {
          "output_type": "stream",
          "text": [
            "The RMSE value for Popularity Recommender model is 1.2521752276549172\n"
          ],
          "name": "stdout"
        }
      ]
    },
    {
      "cell_type": "code",
      "metadata": {
        "colab": {
          "base_uri": "https://localhost:8080/"
        },
        "id": "fSixAc8hHhg-",
        "outputId": "997b9ddc-3884-4e7f-d5a2-b8790c33f0a1"
      },
      "source": [
        "print(len(testset))\n",
        "print(type(testset))"
      ],
      "execution_count": null,
      "outputs": [
        {
          "output_type": "stream",
          "text": [
            "66870\n",
            "<class 'list'>\n"
          ],
          "name": "stdout"
        }
      ]
    },
    {
      "cell_type": "code",
      "metadata": {
        "id": "SjhO89gdHpEY"
      },
      "source": [
        "#KNNWithMeans\n",
        "test_pred = algo_user.test(testset)"
      ],
      "execution_count": null,
      "outputs": []
    },
    {
      "cell_type": "code",
      "metadata": {
        "colab": {
          "base_uri": "https://localhost:8080/"
        },
        "id": "xooUrgRCH6sj",
        "outputId": "5274752f-5e94-41d2-8b48-678d8790de8e"
      },
      "source": [
        "test_pred[0]"
      ],
      "execution_count": null,
      "outputs": [
        {
          "output_type": "execute_result",
          "data": {
            "text/plain": [
              "Prediction(uid='ADMPGWBF0BC9W', iid='B004TSF996', r_ui=3.0, est=4.5625, details={'actual_k': 0, 'was_impossible': False})"
            ]
          },
          "metadata": {
            "tags": []
          },
          "execution_count": 111
        }
      ]
    },
    {
      "cell_type": "code",
      "metadata": {
        "colab": {
          "base_uri": "https://localhost:8080/"
        },
        "id": "6DwEDa8FH8W6",
        "outputId": "1f5a40e8-fdbd-4bc8-a5c5-4cab160ba1d0"
      },
      "source": [
        "accuracy.rmse(test_pred)"
      ],
      "execution_count": null,
      "outputs": [
        {
          "output_type": "stream",
          "text": [
            "RMSE: 1.1466\n"
          ],
          "name": "stdout"
        },
        {
          "output_type": "execute_result",
          "data": {
            "text/plain": [
              "1.1466422079110423"
            ]
          },
          "metadata": {
            "tags": []
          },
          "execution_count": 112
        }
      ]
    },
    {
      "cell_type": "code",
      "metadata": {
        "colab": {
          "base_uri": "https://localhost:8080/"
        },
        "id": "cf_vyk4wIEeG",
        "outputId": "96ebd403-b9b6-421a-a759-2ff768fb65b7"
      },
      "source": [
        "#SVD\n",
        "\n",
        "test_pred = svd_model.test(testset)\n",
        "\n",
        "# compute RMSE\n",
        "accuracy.rmse(test_pred)"
      ],
      "execution_count": null,
      "outputs": [
        {
          "output_type": "stream",
          "text": [
            "RMSE: 1.1032\n"
          ],
          "name": "stdout"
        },
        {
          "output_type": "execute_result",
          "data": {
            "text/plain": [
              "1.1031770158164882"
            ]
          },
          "metadata": {
            "tags": []
          },
          "execution_count": 113
        }
      ]
    },
    {
      "cell_type": "markdown",
      "metadata": {
        "id": "AF2yRN2EIZE4"
      },
      "source": [
        "###Parameter tuning of SVD Recommendation system"
      ]
    },
    {
      "cell_type": "code",
      "metadata": {
        "id": "NSje71o8INqB"
      },
      "source": [
        "from surprise.model_selection import GridSearchCV\n",
        "param_grid = {'n_factors' : [5,10,15], \"reg_all\":[0.01,0.02]}\n",
        "gs = GridSearchCV(SVD, param_grid, measures=['rmse'], cv=3,refit = True)"
      ],
      "execution_count": null,
      "outputs": []
    },
    {
      "cell_type": "code",
      "metadata": {
        "id": "SKemA5eWIaZr"
      },
      "source": [
        "gs.fit(data)"
      ],
      "execution_count": null,
      "outputs": []
    },
    {
      "cell_type": "code",
      "metadata": {
        "colab": {
          "base_uri": "https://localhost:8080/"
        },
        "id": "c18Uzab5Idcl",
        "outputId": "c4148dab-22a5-42ba-be18-e25347ccdf76"
      },
      "source": [
        "# get best parameters\n",
        "gs.best_params"
      ],
      "execution_count": null,
      "outputs": [
        {
          "output_type": "execute_result",
          "data": {
            "text/plain": [
              "{'rmse': {'n_factors': 5, 'reg_all': 0.02}}"
            ]
          },
          "metadata": {
            "tags": []
          },
          "execution_count": 116
        }
      ]
    },
    {
      "cell_type": "code",
      "metadata": {
        "colab": {
          "base_uri": "https://localhost:8080/"
        },
        "id": "tchAnh0CI9PW",
        "outputId": "33177be9-2187-494b-8e8c-943af3ae6de8"
      },
      "source": [
        "gs.test(testset)\n",
        "accuracy.rmse(gs.test(testset))"
      ],
      "execution_count": null,
      "outputs": [
        {
          "output_type": "stream",
          "text": [
            "RMSE: 0.9615\n"
          ],
          "name": "stdout"
        },
        {
          "output_type": "execute_result",
          "data": {
            "text/plain": [
              "0.9614942450330478"
            ]
          },
          "metadata": {
            "tags": []
          },
          "execution_count": 117
        }
      ]
    },
    {
      "cell_type": "markdown",
      "metadata": {
        "id": "bKnCe31VJNU6"
      },
      "source": [
        "##### The RMSE value for Collaborative Filtering model, byKNNWithMeans is 1.1466 and SVD is 1.1032. After parameter tuning of SVD it is 0.9615"
      ]
    },
    {
      "cell_type": "markdown",
      "metadata": {
        "id": "tnVO-cjwJiEd"
      },
      "source": [
        "### Get top - K ( K = 5) recommendations. Since our goal is to recommend new products to each user based on his/her habits, we will recommend 5 new products."
      ]
    },
    {
      "cell_type": "code",
      "metadata": {
        "id": "m8rCY85eJFd0"
      },
      "source": [
        "from collections import defaultdict\n",
        "def get_top_n(predictions, n=5):\n",
        "  \n",
        "    # First map the predictions to each user.\n",
        "    top_n = defaultdict(list)\n",
        "    for uid, iid, true_r, est, _ in predictions:\n",
        "        top_n[uid].append((iid, est))\n",
        "\n",
        "    # Then sort the predictions for each user and retrieve the k highest ones.\n",
        "    for uid, user_ratings in top_n.items():\n",
        "        user_ratings.sort(key=lambda x: x[1], reverse=True)\n",
        "        top_n[uid] = user_ratings[:n]\n",
        "\n",
        "    return top_n"
      ],
      "execution_count": null,
      "outputs": []
    },
    {
      "cell_type": "code",
      "metadata": {
        "id": "oSFkF0pVJxaS"
      },
      "source": [
        "top_n = get_top_n(test_pred, n=5)"
      ],
      "execution_count": null,
      "outputs": []
    },
    {
      "cell_type": "code",
      "metadata": {
        "id": "2bOBE5JOLFYk"
      },
      "source": [
        "from itertools import islice\n",
        "\n",
        "def take(n, iterable):\n",
        "    \"Return first n items of the iterable as a list\"\n",
        "    return list(islice(iterable, n))"
      ],
      "execution_count": null,
      "outputs": []
    },
    {
      "cell_type": "code",
      "metadata": {
        "colab": {
          "base_uri": "https://localhost:8080/"
        },
        "id": "6JOWjIDyJx6H",
        "outputId": "bf2ef6cf-0efa-4fb0-e029-49a013a1a94a"
      },
      "source": [
        "#Print first 20 Recommendation\n",
        "for uid, user_ratings in take(20,top_n.items()):\n",
        "    print(uid, [iid for (iid, _) in user_ratings])"
      ],
      "execution_count": null,
      "outputs": [
        {
          "output_type": "stream",
          "text": [
            "ADMPGWBF0BC9W ['B004TSF8R4', 'B000NIY7QM', 'B005OZFV50', 'B002B4GGUG', 'B005OZDYCW']\n",
            "A3CQ6DAU7A8F5Y ['B00BCHGD6K', 'B0092JXYXA', 'B00EO9UIP0', 'B00DQ48IC4', 'B004MGRF0G']\n",
            "A1TR1R2QKWRSRA ['B0020122ZS', 'B009YSSLAU', 'B008U2Y9BQ', 'B00HSNWXVQ', 'B00AE07BDU']\n",
            "AA71MQ3FJV5VX ['B008U1Q4DI', 'B0089VD8WO', 'B00AH4TJHE', 'B0086LC16Q', 'B004LQGSU0']\n",
            "AVJJ2D4G5I0Z4 ['B001LF4G6W', 'B001EWET8W', 'B0017QT5UM', 'B0017QNO1S', 'B00106AC06']\n",
            "A1JN5YHKWAO2IN ['B0012HPB5E', 'B002ER1BZK', 'B0013Y73FW', 'B0000535RC', 'B004D24818']\n",
            "A3BT8W6XK7XOD6 ['B000052YE1', 'B000NNKAFE', 'B000UYC8YW', 'B0009EXMB6']\n",
            "A19JOB1L14QF9Z ['B003RSY1NE', 'B000A3XHHK', 'B008D5I61Y', 'B002Y2WJUG', 'B004DBVPVK']\n",
            "A2M8T1C3YP19NQ ['B0099189P4', 'B00BIQM2LU', 'B003FBI9LS']\n",
            "A3CGXO38ILDT0D ['B00028MLG6', 'B001KPSO5M', 'B0000AXZV5', 'B002R0ECOQ', 'B0090UJFYI']\n",
            "A330PQAR1XWTXB ['B003UM6TJG', 'B005KCAGEI', 'B005BF1M10', 'B0075ALW9Q', 'B0013QN5TI']\n",
            "A2R1HUYHXV7H18 ['B007RT19V6', 'B00IP42FBA', 'B004N7DQHA', 'B004GIM68G', 'B00ISW92F6']\n",
            "A3Q57F5ROZTEQT ['B0080AC73U', 'B00H7HEFL4', 'B004LPJBQE', 'B0050INH2U', 'B000VOPALY']\n",
            "A5O7POXXUSO2G ['B0036B8S1I', 'B005CRJUEI']\n",
            "A89ZZKNDFQH23 ['B001OMI93S', 'B000W7W1QC', 'B004H53CW2', 'B00AE07FXQ', 'B00HD7SCLM']\n",
            "A12J4WQR3GL81C ['B00C8YCFU4', 'B0073ARS3M', 'B000NB3VMA', 'B002LGJORQ', 'B004HKWL6A']\n",
            "A3BNYC25EOEURJ ['B00B0GOSNI', 'B0069SC0OQ', 'B00GRPRRL2', 'B00GSKNOK4', 'B001HBR5RW']\n",
            "A1BCBWJBXK6QN9 ['B004TXY0TG', 'B003ZWEW1S', 'B007MFMHSE', 'B005DVDNLE', 'B002F5DTQA']\n",
            "A269B5XQRUBVKE ['B006OZF1RC', 'B002PBACLY', 'B002PBEDT6', 'B0011XVNI8', 'B004675GL6']\n",
            "ACR4HKUT808U1 ['B003V21WO2', 'B00639DLV2', 'B00GTC1KZ2', 'B0046MZNH8', 'B006RFZ8C2']\n"
          ],
          "name": "stdout"
        }
      ]
    },
    {
      "cell_type": "code",
      "metadata": {
        "id": "KGY8czwHJ0Pe"
      },
      "source": [
        ""
      ],
      "execution_count": null,
      "outputs": []
    },
    {
      "cell_type": "code",
      "metadata": {
        "id": "J73DFgMuKjcc"
      },
      "source": [
        ""
      ],
      "execution_count": null,
      "outputs": []
    }
  ]
}